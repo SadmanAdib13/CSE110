{
  "nbformat": 4,
  "nbformat_minor": 0,
  "metadata": {
    "colab": {
      "provenance": [],
      "authorship_tag": "ABX9TyMRJB0A4XAGsT56Dot0htQC",
      "include_colab_link": true
    },
    "kernelspec": {
      "name": "python3",
      "display_name": "Python 3"
    },
    "language_info": {
      "name": "python"
    }
  },
  "cells": [
    {
      "cell_type": "markdown",
      "metadata": {
        "id": "view-in-github",
        "colab_type": "text"
      },
      "source": [
        "<a href=\"https://colab.research.google.com/github/SadmanAdib13/First-Project/blob/main/loop_L3(cse110).ipynb\" target=\"_parent\"><img src=\"https://colab.research.google.com/assets/colab-badge.svg\" alt=\"Open In Colab\"/></a>"
      ]
    },
    {
      "cell_type": "code",
      "execution_count": 8,
      "metadata": {
        "colab": {
          "base_uri": "https://localhost:8080/"
        },
        "id": "5lM8XNOo-fxy",
        "outputId": "76de6e52-5f20-40d2-ef05-f22ca20f8965"
      },
      "outputs": [
        {
          "output_type": "stream",
          "name": "stdout",
          "text": [
            "Happy Birthday\n",
            "Happy Birthday\n",
            "Happy Birthday\n",
            "Happy Birthday\n",
            "Happy Birthday\n"
          ]
        }
      ],
      "source": [
        "count =1\n",
        "while count<=5:\n",
        " print (\"Happy Birthday\")\n",
        " count=count+1"
      ]
    },
    {
      "cell_type": "code",
      "source": [
        "count=24\n",
        "while count>=-6:\n",
        " if count ==-6:\n",
        "   print(count,end=\"\")\n",
        " else:\n",
        "   print(count,end=\", \")\n",
        " count=count-6"
      ],
      "metadata": {
        "colab": {
          "base_uri": "https://localhost:8080/"
        },
        "id": "b3oKXxJY_M8o",
        "outputId": "4f058845-17b0-44b7-9828-798d7a517668"
      },
      "execution_count": 9,
      "outputs": [
        {
          "output_type": "stream",
          "name": "stdout",
          "text": [
            "24, 18, 12, 6, 0, -6"
          ]
        }
      ]
    },
    {
      "cell_type": "code",
      "source": [
        "for number in range(18,64,9):\n",
        " print(number,end=\", \")"
      ],
      "metadata": {
        "colab": {
          "base_uri": "https://localhost:8080/"
        },
        "id": "cLzwEZYoDWoB",
        "outputId": "a875375b-45e0-4ef6-f334-337c31e5fb29"
      },
      "execution_count": 10,
      "outputs": [
        {
          "output_type": "stream",
          "name": "stdout",
          "text": [
            "18, 27, 36, 45, 54, 63, "
          ]
        }
      ]
    },
    {
      "cell_type": "code",
      "source": [
        "for number in range(1,5,2):\n",
        " print (\"Happy Birthday\")"
      ],
      "metadata": {
        "colab": {
          "base_uri": "https://localhost:8080/"
        },
        "id": "nenC6uPIGafS",
        "outputId": "946a335a-7b1f-4f0b-8eaf-66e55c437512"
      },
      "execution_count": 11,
      "outputs": [
        {
          "output_type": "stream",
          "name": "stdout",
          "text": [
            "Happy Birthday\n",
            "Happy Birthday\n"
          ]
        }
      ]
    },
    {
      "cell_type": "code",
      "source": [
        "number=18\n",
        "for number in range (18,64,9):\n",
        "  if number==63:\n",
        "   print (number,end=\" \")\n",
        "  else:\n",
        "   print (number,end=\", \")"
      ],
      "metadata": {
        "colab": {
          "base_uri": "https://localhost:8080/"
        },
        "id": "crdd1hLQpdBK",
        "outputId": "1dd73181-d321-4428-9a5d-b0552e69d082"
      },
      "execution_count": 12,
      "outputs": [
        {
          "output_type": "stream",
          "name": "stdout",
          "text": [
            "18, 27, 36, 45, 54, 63 "
          ]
        }
      ]
    },
    {
      "cell_type": "code",
      "source": [
        "count=24\n",
        "while count>=-6:\n",
        "  if count==-6:\n",
        "    print(count,end=\" \")\n",
        "  else:\n",
        "    print(count,end=\", \")\n",
        "  count=count-6"
      ],
      "metadata": {
        "colab": {
          "base_uri": "https://localhost:8080/"
        },
        "id": "zFrp0MHLpiCW",
        "outputId": "d51d06ee-e603-4083-faa0-81b597b8555b"
      },
      "execution_count": 13,
      "outputs": [
        {
          "output_type": "stream",
          "name": "stdout",
          "text": [
            "24, 18, 12, 6, 0, -6 "
          ]
        }
      ]
    },
    {
      "cell_type": "code",
      "source": [
        "y=0\n",
        "n =int(input(\"Enter value:\"))\n",
        "for i in range(1,n+1,1):\n",
        "  if i%2==0:\n",
        "    y=y-i**2\n",
        "  else:\n",
        "    y=y+i**2\n",
        "print(y)\n"
      ],
      "metadata": {
        "colab": {
          "base_uri": "https://localhost:8080/"
        },
        "id": "bEqXSb7cpmd_",
        "outputId": "f5cb6ec2-bedb-425a-9d1b-25429aa636e7"
      },
      "execution_count": 14,
      "outputs": [
        {
          "output_type": "stream",
          "name": "stdout",
          "text": [
            "Enter value:23\n",
            "276\n"
          ]
        }
      ]
    },
    {
      "cell_type": "code",
      "source": [
        "\n",
        "x=int(input(\"Enter Value:\"))\n",
        "while x>0:\n",
        "  y=x%10\n",
        "  if x<10:\n",
        "   print(y,end=\" \")\n",
        "  else:\n",
        "   print(y,end=\", \")\n",
        "  x=x//10\n"
      ],
      "metadata": {
        "colab": {
          "base_uri": "https://localhost:8080/"
        },
        "id": "yPujL7-ZprMo",
        "outputId": "d2626a32-b89c-4873-f552-279cc4915008"
      },
      "execution_count": 15,
      "outputs": [
        {
          "output_type": "stream",
          "name": "stdout",
          "text": [
            "Enter Value:11\n",
            "1, 1 "
          ]
        }
      ]
    },
    {
      "cell_type": "code",
      "source": [
        "x = int(input(\"Enter value:\"))\n",
        "counter = 0\n",
        "y = 1\n",
        "\n",
        "while y <= x:\n",
        "    if x % y == 0:\n",
        "        print(y, end=\"\")\n",
        "    else:\n",
        "        print(y, end=\", \")\n",
        "    counter += 1\n",
        "    y += 1\n"
      ],
      "metadata": {
        "colab": {
          "base_uri": "https://localhost:8080/"
        },
        "id": "NXki6NEEp_D4",
        "outputId": "5762d0f9-a4d5-46dc-bc17-e56a5df81f43"
      },
      "execution_count": 16,
      "outputs": [
        {
          "output_type": "stream",
          "name": "stdout",
          "text": [
            "Enter value:34\n",
            "123, 4, 5, 6, 7, 8, 9, 10, 11, 12, 13, 14, 15, 16, 1718, 19, 20, 21, 22, 23, 24, 25, 26, 27, 28, 29, 30, 31, 32, 33, 34"
          ]
        }
      ]
    },
    {
      "cell_type": "code",
      "source": [
        "m=int(input(\"input row:\"))\n",
        "n=int(input(\"Input colum:\"))\n",
        "for i in range(m):\n",
        "  for j in range (1,n+1):\n",
        "    print (j,end=\"\")\n",
        "  print ()"
      ],
      "metadata": {
        "colab": {
          "base_uri": "https://localhost:8080/"
        },
        "id": "_P0B6FgnrC0y",
        "outputId": "9f62e8ae-ba9c-4b92-fc00-19265fce2a86"
      },
      "execution_count": 17,
      "outputs": [
        {
          "output_type": "stream",
          "name": "stdout",
          "text": [
            "input row:5\n",
            "Input colum:6\n",
            "123456\n",
            "123456\n",
            "123456\n",
            "123456\n",
            "123456\n"
          ]
        }
      ]
    },
    {
      "cell_type": "code",
      "source": [
        "count=18\n",
        "while count<=63:\n",
        "  if count!=63 and count%2==0:\n",
        "    print(count,end=\", \")\n",
        "  elif count==63:\n",
        "    print('-'+str(count))\n",
        "  if count%2!=0 and count!=63:\n",
        "    print('-'+str(count))\n",
        "  count=count+9\n"
      ],
      "metadata": {
        "colab": {
          "base_uri": "https://localhost:8080/"
        },
        "id": "e6OjcXGvrJKz",
        "outputId": "3b75bf2b-6567-4ff4-f4bc-56b4fd6ff1ad"
      },
      "execution_count": 18,
      "outputs": [
        {
          "output_type": "stream",
          "name": "stdout",
          "text": [
            "18, -27\n",
            "36, -45\n",
            "54, -63\n"
          ]
        }
      ]
    }
  ]
}