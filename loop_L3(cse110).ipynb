{
  "nbformat": 4,
  "nbformat_minor": 0,
  "metadata": {
    "colab": {
      "provenance": [],
      "authorship_tag": "ABX9TyMRJB0A4XAGsT56Dot0htQC",
      "include_colab_link": true
    },
    "kernelspec": {
      "name": "python3",
      "display_name": "Python 3"
    },
    "language_info": {
      "name": "python"
    }
  },
  "cells": [
    {
      "cell_type": "markdown",
      "metadata": {
        "id": "view-in-github",
        "colab_type": "text"
      },
      "source": [
        "<a href=\"https://colab.research.google.com/github/SadmanAdib13/First-Project/blob/main/loop_L3(cse110).ipynb\" target=\"_parent\"><img src=\"https://colab.research.google.com/assets/colab-badge.svg\" alt=\"Open In Colab\"/></a>"
      ]
    },
    {
      "cell_type": "code",
      "execution_count": null,
      "metadata": {
        "colab": {
          "base_uri": "https://localhost:8080/"
        },
        "id": "5lM8XNOo-fxy",
        "outputId": "14b568d3-7ff0-46d6-b2f5-332b8dddd091"
      },
      "outputs": [
        {
          "output_type": "stream",
          "name": "stdout",
          "text": [
            "Happy Birthday\n",
            "Happy Birthday\n",
            "Happy Birthday\n",
            "Happy Birthday\n",
            "Happy Birthday\n"
          ]
        }
      ],
      "source": [
        "count =1\n",
        "while count<=5:\n",
        " print (\"Happy Birthday\")\n",
        " count=count+1"
      ]
    },
    {
      "cell_type": "code",
      "source": [
        "count=24\n",
        "while count>=-6:\n",
        " if count ==-6:\n",
        "   print(count,end=\"\")\n",
        " else:\n",
        "   print(count,end=\", \")\n",
        " count=count-6"
      ],
      "metadata": {
        "colab": {
          "base_uri": "https://localhost:8080/"
        },
        "id": "b3oKXxJY_M8o",
        "outputId": "0d787ac7-b2c6-4001-d32d-da4c3ad3f3c5"
      },
      "execution_count": null,
      "outputs": [
        {
          "output_type": "stream",
          "name": "stdout",
          "text": [
            "24, 18, 12, 6, 0, -6"
          ]
        }
      ]
    },
    {
      "cell_type": "code",
      "source": [
        "for number in range(18,64,9):\n",
        " print(number,end=\", \")"
      ],
      "metadata": {
        "colab": {
          "base_uri": "https://localhost:8080/"
        },
        "id": "cLzwEZYoDWoB",
        "outputId": "3e33670e-51f5-4be4-ec1c-48e9aafebe83"
      },
      "execution_count": null,
      "outputs": [
        {
          "output_type": "stream",
          "name": "stdout",
          "text": [
            "18, 27, 36, 45, 54, 63, "
          ]
        }
      ]
    },
    {
      "cell_type": "code",
      "source": [
        "for number in range(1,5,2):\n",
        " print (\"Happy Birthday\")"
      ],
      "metadata": {
        "colab": {
          "base_uri": "https://localhost:8080/"
        },
        "id": "nenC6uPIGafS",
        "outputId": "9e556223-4936-447a-9ec7-07e9cf9abac6"
      },
      "execution_count": null,
      "outputs": [
        {
          "output_type": "stream",
          "name": "stdout",
          "text": [
            "Happy Birthday\n",
            "Happy Birthday\n"
          ]
        }
      ]
    },
    {
      "cell_type": "code",
      "source": [
        "number=18\n",
        "for number in range (18,64,9):\n",
        "  if number==63:\n",
        "   print (number,end=\" \")\n",
        "  else:\n",
        "   print (number,end=\", \")"
      ],
      "metadata": {
        "colab": {
          "base_uri": "https://localhost:8080/"
        },
        "id": "crdd1hLQpdBK",
        "outputId": "7055ab6d-abbc-4eec-9456-5261120042f8"
      },
      "execution_count": 1,
      "outputs": [
        {
          "output_type": "stream",
          "name": "stdout",
          "text": [
            "18, 27, 36, 45, 54, 63 "
          ]
        }
      ]
    },
    {
      "cell_type": "code",
      "source": [
        "count=24\n",
        "while count>=-6:\n",
        "  if count==-6:\n",
        "    print(count,end=\" \")\n",
        "  else:\n",
        "    print(count,end=\", \")\n",
        "  count=count-6"
      ],
      "metadata": {
        "colab": {
          "base_uri": "https://localhost:8080/"
        },
        "id": "zFrp0MHLpiCW",
        "outputId": "75ee89f7-cdc4-4116-bdc0-83bcb3a909f1"
      },
      "execution_count": 2,
      "outputs": [
        {
          "output_type": "stream",
          "name": "stdout",
          "text": [
            "24, 18, 12, 6, 0, -6 "
          ]
        }
      ]
    },
    {
      "cell_type": "code",
      "source": [
        "y=0\n",
        "n =int(input(\"Enter value:\"))\n",
        "for i in range(1,n+1,1):\n",
        "  if i%2==0:\n",
        "    y=y-i**2\n",
        "  else:\n",
        "    y=y+i**2\n",
        "print(y)\n"
      ],
      "metadata": {
        "colab": {
          "base_uri": "https://localhost:8080/"
        },
        "id": "bEqXSb7cpmd_",
        "outputId": "68f46c2d-3d98-4ac5-b288-ed75cfebc91c"
      },
      "execution_count": 4,
      "outputs": [
        {
          "output_type": "stream",
          "name": "stdout",
          "text": [
            "Enter value:97\n",
            "4753\n"
          ]
        }
      ]
    },
    {
      "cell_type": "code",
      "source": [
        "\n",
        "x=int(input(\"Enter Value:\"))\n",
        "while x>0:\n",
        "  y=x%10\n",
        "  if x<10:\n",
        "   print(y,end=\" \")\n",
        "  else:\n",
        "   print(y,end=\", \")\n",
        "  x=x//10\n"
      ],
      "metadata": {
        "colab": {
          "base_uri": "https://localhost:8080/"
        },
        "id": "yPujL7-ZprMo",
        "outputId": "e8aaed3a-65b5-41c5-b26f-6accf61f7ac2"
      },
      "execution_count": 3,
      "outputs": [
        {
          "output_type": "stream",
          "name": "stdout",
          "text": [
            "Enter Value:34\n",
            "4, 3 "
          ]
        }
      ]
    },
    {
      "cell_type": "code",
      "source": [
        "x = int(input(\"Enter value:\"))\n",
        "counter = 0\n",
        "y = 1\n",
        "\n",
        "while y <= x:\n",
        "    if x % y == 0:\n",
        "        print(y, end=\"\")\n",
        "    else:\n",
        "        print(y, end=\", \")\n",
        "    counter += 1\n",
        "    y += 1\n"
      ],
      "metadata": {
        "colab": {
          "base_uri": "https://localhost:8080/"
        },
        "id": "NXki6NEEp_D4",
        "outputId": "fcd6efae-dbf4-4617-cd34-013be501ad81"
      },
      "execution_count": 5,
      "outputs": [
        {
          "output_type": "stream",
          "name": "stdout",
          "text": [
            "Enter value:23\n",
            "12, 3, 4, 5, 6, 7, 8, 9, 10, 11, 12, 13, 14, 15, 16, 17, 18, 19, 20, 21, 22, 23"
          ]
        }
      ]
    },
    {
      "cell_type": "code",
      "source": [
        "m=int(input(\"input row:\"))\n",
        "n=int(input(\"Input colum:\"))\n",
        "for i in range(m):\n",
        "  for j in range (1,n+1):\n",
        "    print (j,end=\"\")\n",
        "  print ()"
      ],
      "metadata": {
        "colab": {
          "base_uri": "https://localhost:8080/"
        },
        "id": "_P0B6FgnrC0y",
        "outputId": "f562bfc8-6941-49b7-9ea8-601ac09fae8c"
      },
      "execution_count": 6,
      "outputs": [
        {
          "output_type": "stream",
          "name": "stdout",
          "text": [
            "input row:5\n",
            "Input colum:6\n",
            "123456\n",
            "123456\n",
            "123456\n",
            "123456\n",
            "123456\n"
          ]
        }
      ]
    },
    {
      "cell_type": "code",
      "source": [
        "count=18\n",
        "while count<=63:\n",
        "  if count!=63 and count%2==0:\n",
        "    print(count,end=\", \")\n",
        "  elif count==63:\n",
        "    print('-'+str(count))\n",
        "  if count%2!=0 and count!=63:\n",
        "    print('-'+str(count))\n",
        "  count=count+9\n"
      ],
      "metadata": {
        "colab": {
          "base_uri": "https://localhost:8080/"
        },
        "id": "e6OjcXGvrJKz",
        "outputId": "1e90208c-e821-4ba3-bbf1-968a7c565d0b"
      },
      "execution_count": 7,
      "outputs": [
        {
          "output_type": "stream",
          "name": "stdout",
          "text": [
            "18, -27\n",
            "36, -45\n",
            "54, -63\n"
          ]
        }
      ]
    }
  ]
}