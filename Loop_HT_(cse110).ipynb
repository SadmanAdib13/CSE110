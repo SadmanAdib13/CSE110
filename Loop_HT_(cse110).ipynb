{
  "nbformat": 4,
  "nbformat_minor": 0,
  "metadata": {
    "colab": {
      "provenance": [],
      "authorship_tag": "ABX9TyPbgRExtur2SDL2z0MlO/bR",
      "include_colab_link": true
    },
    "kernelspec": {
      "name": "python3",
      "display_name": "Python 3"
    },
    "language_info": {
      "name": "python"
    }
  },
  "cells": [
    {
      "cell_type": "markdown",
      "metadata": {
        "id": "view-in-github",
        "colab_type": "text"
      },
      "source": [
        "<a href=\"https://colab.research.google.com/github/SadmanAdib13/First-Project/blob/main/Loop_HT_(cse110).ipynb\" target=\"_parent\"><img src=\"https://colab.research.google.com/assets/colab-badge.svg\" alt=\"Open In Colab\"/></a>"
      ]
    },
    {
      "cell_type": "code",
      "execution_count": null,
      "metadata": {
        "colab": {
          "base_uri": "https://localhost:8080/"
        },
        "id": "HRx-yaUhBt3X",
        "outputId": "a8449aa0-9da1-4767-d705-6096ab3e92bf"
      },
      "outputs": [
        {
          "output_type": "stream",
          "name": "stdout",
          "text": [
            "Enter any string:AAAAGGGHH\n",
            "AGH\n"
          ]
        }
      ],
      "source": [
        "#Hometask1\n",
        "x=input(\"Enter any string:\")\n",
        "output=\"\"\n",
        "for ch in x:\n",
        "\n",
        "  if ch not in output:\n",
        "   output=output+ch\n",
        "\n",
        "\n",
        "\n",
        "print(output)"
      ]
    },
    {
      "cell_type": "code",
      "source": [
        "#Hometask2\n",
        "x = input(\"Enter the first string: \")\n",
        "y = input(\"Enter the second string: \")\n",
        "i = 0\n",
        "j = 0\n",
        "result = \"\"\n",
        "\n",
        "while i < len(x) or j < len(y):\n",
        "    if i < len(x):\n",
        "        result = result + x[i]\n",
        "        i += 1\n",
        "    if j < len(y):\n",
        "        result = result + y[j]\n",
        "        j += 1\n",
        "\n",
        "print(result)"
      ],
      "metadata": {
        "colab": {
          "base_uri": "https://localhost:8080/"
        },
        "id": "LG_3LJNHB65M",
        "outputId": "bebd7bdb-6314-48ed-cd81-e019d96a8595"
      },
      "execution_count": null,
      "outputs": [
        {
          "output_type": "stream",
          "name": "stdout",
          "text": [
            "Enter the first string: ABCDEF\n",
            "Enter the second string: vxyz\n",
            "AvBxCyDzEF\n"
          ]
        }
      ]
    },
    {
      "cell_type": "code",
      "source": [
        "#Hometask3\n",
        "word = input(\"Enter the word: \")\n",
        "new_word = \"\"\n",
        "\n",
        "for i in word:\n",
        "    asci = ord(i)\n",
        "    if asci == ord('z'):\n",
        "        new_word = new_word + 'a'\n",
        "    else:\n",
        "        new_word = new_word + chr(asci + 1)\n",
        "\n",
        "print(new_word)"
      ],
      "metadata": {
        "colab": {
          "base_uri": "https://localhost:8080/"
        },
        "id": "3bbMccUnCF8_",
        "outputId": "41d6aa32-02d7-47ab-9cf7-66afc005d18e"
      },
      "execution_count": null,
      "outputs": [
        {
          "output_type": "stream",
          "name": "stdout",
          "text": [
            "Enter the word: abcd\n",
            "bcde\n"
          ]
        }
      ]
    },
    {
      "cell_type": "code",
      "source": [
        "\n",
        "#Home Task 4\n",
        "user = input(\"Please enter your string: \")\n",
        "length = len(user)\n",
        "new = \"\"\n",
        "position = 0\n",
        "for i in range(length):\n",
        "    if user[i] == \" \":\n",
        "      new = new + user[i]\n",
        "    else:\n",
        "      if position%2 == 0:\n",
        "        if ord(user[i])>= 65 and ord (user[i])<= 90:\n",
        "            new = new + user[i]\n",
        "        else:\n",
        "            new = new + chr(ord(user[i])-32)\n",
        "            position = position+1\n",
        "      else:\n",
        "          if ord(user[i])>= 65 and ord(user[i])<= 90:\n",
        "              new = new + chr(ord(user[i])+32)\n",
        "          else:\n",
        "              new = new + user[i]\n",
        "          position = position +1\n",
        "print(new)"
      ],
      "metadata": {
        "colab": {
          "base_uri": "https://localhost:8080/"
        },
        "id": "r4ILzV2BCQyJ",
        "outputId": "6745514f-ab6d-4180-d6bf-813520bb9789"
      },
      "execution_count": null,
      "outputs": [
        {
          "output_type": "stream",
          "name": "stdout",
          "text": [
            "Please enter your string: I       lOvE        pYtHoN        pRoGrAmMiNg CsE110 cOuRsE\n",
            "I       LoVe        PyThOn        PrOgRaMmInG cSe\u00111\u0010 cOUrSe\n"
          ]
        }
      ]
    }
  ]
}