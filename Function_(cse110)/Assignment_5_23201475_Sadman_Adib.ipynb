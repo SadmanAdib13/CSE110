{
  "nbformat": 4,
  "nbformat_minor": 0,
  "metadata": {
    "colab": {
      "provenance": [],
      "authorship_tag": "ABX9TyPyIK7LXJAk1Cyr36+rlepq",
      "include_colab_link": true
    },
    "kernelspec": {
      "name": "python3",
      "display_name": "Python 3"
    },
    "language_info": {
      "name": "python"
    }
  },
  "cells": [
    {
      "cell_type": "markdown",
      "metadata": {
        "id": "view-in-github",
        "colab_type": "text"
      },
      "source": [
        "<a href=\"https://colab.research.google.com/github/SadmanAdib13/First-Project/blob/main/Function_(cse110)/Assignment_5_23201475_Sadman_Adib.ipynb\" target=\"_parent\"><img src=\"https://colab.research.google.com/assets/colab-badge.svg\" alt=\"Open In Colab\"/></a>"
      ]
    },
    {
      "cell_type": "code",
      "execution_count": null,
      "metadata": {
        "colab": {
          "base_uri": "https://localhost:8080/",
          "height": 36
        },
        "id": "6yBAFDHtVC-r",
        "outputId": "00364aa5-0033-4b05-e596-46ef11729ae1"
      },
      "outputs": [
        {
          "output_type": "execute_result",
          "data": {
            "text/plain": [
              "'Even!!'"
            ],
            "application/vnd.google.colaboratory.intrinsic+json": {
              "type": "string"
            }
          },
          "metadata": {},
          "execution_count": 1
        }
      ],
      "source": [
        "  #cW-1.1\n",
        "def even_checker(num):\n",
        "    if num%2==0:\n",
        "        return \"Even!!\"\n",
        "    else:\n",
        "        return \"Odd!!\"\n",
        "even_checker(10)"
      ]
    },
    {
      "cell_type": "code",
      "source": [
        "#CW-1.2\n",
        "def is_even(num):\n",
        "    if num%2==0:\n",
        "        return True\n",
        "    else:\n",
        "        return False\n",
        "result=is_even(10)\n",
        "print(result)\n"
      ],
      "metadata": {
        "colab": {
          "base_uri": "https://localhost:8080/"
        },
        "id": "ZIw9xnhtZGaJ",
        "outputId": "e63b7bd7-4ad1-49b3-dcaa-db6fed68d8f8"
      },
      "execution_count": null,
      "outputs": [
        {
          "output_type": "stream",
          "name": "stdout",
          "text": [
            "True\n"
          ]
        }
      ]
    },
    {
      "cell_type": "code",
      "source": [
        "#CW-1.3\n",
        "def is_pos(n):\n",
        "  if n>0:\n",
        "    return True\n",
        "  else:\n",
        "    return False\n",
        "result=is_pos(-5)\n",
        "print(result)"
      ],
      "metadata": {
        "colab": {
          "base_uri": "https://localhost:8080/"
        },
        "id": "GpuEIla_ZqBv",
        "outputId": "0b73e2d3-121b-4fde-d902-94eb0ae61054"
      },
      "execution_count": null,
      "outputs": [
        {
          "output_type": "stream",
          "name": "stdout",
          "text": [
            "False\n"
          ]
        }
      ]
    },
    {
      "cell_type": "code",
      "source": [
        "#CW-1.4\n",
        "def is_pos(num):  #From 1.3\n",
        "    if num>=0 :\n",
        "        return True\n",
        "    else:\n",
        "        return False\n",
        "\n",
        "def is_even(num): #From 1.2\n",
        "    if num%2==0:\n",
        "        return True\n",
        "    else:\n",
        "        return False\n",
        "def sequence(n):\n",
        "    if is_pos(n):\n",
        "        for i in range( n+1):\n",
        "            if even_checker(i):\n",
        "                print(i, end=\" \")\n",
        "    else:\n",
        "      if is_even(n):\n",
        "       for j in range(n+1,0,2):\n",
        "        print(j,end=\" \")\n",
        "      else:\n",
        "        for k in range(n,0,2):\n",
        "          print(k,end=\" \")\n",
        "\n",
        "\n",
        "sequence(-7)\n"
      ],
      "metadata": {
        "colab": {
          "base_uri": "https://localhost:8080/"
        },
        "id": "V1VGvaNma34N",
        "outputId": "21b07fa6-555b-4539-f4e9-246fc33cdc8d"
      },
      "execution_count": null,
      "outputs": [
        {
          "output_type": "stream",
          "name": "stdout",
          "text": [
            "-7 -5 -3 -1 "
          ]
        }
      ]
    },
    {
      "cell_type": "code",
      "source": [
        "#CW-2.1\n",
        "def is_valid_triangle(a,b,c):\n",
        "    if a+b>=c or b+c>=a or c+a>=b:\n",
        "        return True\n",
        "    else:\n",
        "        return False\n",
        "result=is_valid_triangle(7,5,10)\n",
        "print(result)"
      ],
      "metadata": {
        "colab": {
          "base_uri": "https://localhost:8080/"
        },
        "id": "iUqmJIu1KOoO",
        "outputId": "b36c41c1-2265-4e1b-d2dd-fe5a3be70433"
      },
      "execution_count": null,
      "outputs": [
        {
          "output_type": "stream",
          "name": "stdout",
          "text": [
            "True\n"
          ]
        }
      ]
    },
    {
      "cell_type": "code",
      "source": [
        "#CW-2.2\n",
        "def is_valid_triangle(a,b,c):\n",
        "    if a+b>=c or b+c>=a or c+a>=b:\n",
        "        return True\n",
        "    else:\n",
        "        return False\n",
        "def tri_area(a,b,c):\n",
        "    if is_valid_triangle(a,b,c):\n",
        "        s=(a+b+c)/2\n",
        "        area=(s*(s-a)*(s-b)*(s-c))**0.5\n",
        "        return area\n",
        "    else:\n",
        "        return\"Can't form triangle\"\n",
        "result=tri_area(7,5,10)\n",
        "print(round(result,3))\n"
      ],
      "metadata": {
        "colab": {
          "base_uri": "https://localhost:8080/"
        },
        "id": "531kWuU7G6cR",
        "outputId": "1d43e184-9892-487a-e596-a3cfb169b97e"
      },
      "execution_count": null,
      "outputs": [
        {
          "output_type": "stream",
          "name": "stdout",
          "text": [
            "16.248\n"
          ]
        }
      ]
    },
    {
      "cell_type": "code",
      "source": [
        "#CW 3.1\n",
        "def circle(r):\n",
        "  import math\n",
        "  area=math.pi*r**2\n",
        "  return (round(area,4))\n",
        "\n",
        "circle(5)"
      ],
      "metadata": {
        "colab": {
          "base_uri": "https://localhost:8080/"
        },
        "id": "S95XH0ovRLSa",
        "outputId": "46868aef-1086-4f9b-c01d-65d98e0d9dd9"
      },
      "execution_count": null,
      "outputs": [
        {
          "output_type": "execute_result",
          "data": {
            "text/plain": [
              "78.5398"
            ]
          },
          "metadata": {},
          "execution_count": 13
        }
      ]
    },
    {
      "cell_type": "code",
      "source": [
        "#CW 3.2\n",
        "def sphere(r):\n",
        "  import math\n",
        "  volume=(4/3)*math.pi*r**3\n",
        "  return (round(volume,4))\n",
        "sphere (5)"
      ],
      "metadata": {
        "colab": {
          "base_uri": "https://localhost:8080/"
        },
        "id": "OVCUYcXbVdoy",
        "outputId": "ddd89dea-c4db-4b0d-ab23-7d8088f8b916"
      },
      "execution_count": null,
      "outputs": [
        {
          "output_type": "execute_result",
          "data": {
            "text/plain": [
              "523.5988"
            ]
          },
          "metadata": {},
          "execution_count": 19
        }
      ]
    },
    {
      "cell_type": "code",
      "source": [
        "#CW 3.3\n",
        "def circle(r): #from 3.1\n",
        "  import math\n",
        "  area=math.pi*r**2\n",
        "  return (round(area,4))\n",
        "\n",
        "def sphere(r): #from 3.2\n",
        "  import math\n",
        "  volume=(4/3)*math.pi*r**3\n",
        "  return (round(volume,4))\n",
        "\n",
        "def fitting(a,b,c):\n",
        "  a=a/2\n",
        "  b=b/2\n",
        "  if c==2:\n",
        "    area_1 =  circle(a)\n",
        "    area_2 =  circle(b)\n",
        "\n",
        "    if area_1>area_2:\n",
        "      difference=(area_1-area_2)\n",
        "      difference=round(difference,3)\n",
        "      return \"Circel-2 can fit inside Circle-1 \"+str(difference) +\" squire units would be left.\"\n",
        "    else:\n",
        "      difference=(area_2-area_1)\n",
        "      difference=round(difference,3)\n",
        "      return \"Circle-1 can fit inside Circle-2 \"+str(difference)+\" squire units would be left.\"\n",
        "\n",
        "  else :\n",
        "    volume_1= sphere(a)\n",
        "    volume_2= sphere(b)\n",
        "\n",
        "    if volume_1>volume_2:\n",
        "      difference=(volume_1-volume_2)\n",
        "      difference=round(difference,3)\n",
        "      return \"Circle-2 can fit inside Circle-1 and \"+str(difference)+\" cubic units would be left.\"\n",
        "\n",
        "    else:\n",
        "       difference=(volume_2-volume_1)\n",
        "       difference=round(difference,3)\n",
        "       return \"Circle-1 can fit inside circle-2 and \"+str(difference)+\" cubic units would be left.\"\n",
        "\n",
        "result=fitting(8,10,2)\n",
        "print(result)"
      ],
      "metadata": {
        "colab": {
          "base_uri": "https://localhost:8080/"
        },
        "id": "2-AwA42PWfF7",
        "outputId": "37d69396-cefc-45dc-8d08-f82c4c098e64"
      },
      "execution_count": null,
      "outputs": [
        {
          "output_type": "stream",
          "name": "stdout",
          "text": [
            "Circle-1 can fit inside Circle-2 28.274 squire units would be left.\n"
          ]
        }
      ]
    },
    {
      "cell_type": "code",
      "source": [
        "#CW 5.1\n",
        "def one_to_N(m,n):\n",
        "  if m==n:\n",
        "    print(m,end=\" \")\n",
        "  else:\n",
        "    print(m,end=\" \")\n",
        "    one_to_N(m+1,n)\n",
        "\n",
        "one_to_N(1,int(input(\"Enter your input:\")))"
      ],
      "metadata": {
        "colab": {
          "base_uri": "https://localhost:8080/"
        },
        "id": "J0AWg7GHx0q4",
        "outputId": "a1fa93ce-d096-472a-f199-563dc6339d59"
      },
      "execution_count": null,
      "outputs": [
        {
          "output_type": "stream",
          "name": "stdout",
          "text": [
            "Enter your input:11\n",
            "1 2 3 4 5 6 7 8 9 10 11 "
          ]
        }
      ]
    },
    {
      "cell_type": "code",
      "source": [
        "#CW 5.2\n",
        "def reverse_printing(m,n):\n",
        "  if m==n:\n",
        "    print(m,end=\" \")\n",
        "  else:\n",
        "    print(n,end=\" \")\n",
        "    reverse_printing(m,n-1)\n",
        "\n",
        "reverse_printing(1,int(input(\"Enter your input:\")))"
      ],
      "metadata": {
        "colab": {
          "base_uri": "https://localhost:8080/"
        },
        "id": "N807zdTX0_-w",
        "outputId": "2f37d76b-e557-4238-93cf-e67a29fdabc1"
      },
      "execution_count": null,
      "outputs": [
        {
          "output_type": "stream",
          "name": "stdout",
          "text": [
            "Enter your input:6\n",
            "6 5 4 3 2 1 "
          ]
        }
      ]
    },
    {
      "cell_type": "code",
      "source": [
        "# HW 1.1\n",
        "def is_prime(n):\n",
        "  if n>1:\n",
        "    for i in range(2,n):\n",
        "      if n%i==0 :\n",
        "        return False\n",
        "\n",
        "    return True\n",
        "  else:\n",
        "    return False\n",
        "\n",
        "prime_check=is_prime(2)\n",
        "print(prime_check)"
      ],
      "metadata": {
        "colab": {
          "base_uri": "https://localhost:8080/"
        },
        "id": "MtHbyg6O7LUC",
        "outputId": "ba396887-6c90-45a4-fc1b-5e21e29d649d"
      },
      "execution_count": null,
      "outputs": [
        {
          "output_type": "stream",
          "name": "stdout",
          "text": [
            "True\n"
          ]
        }
      ]
    },
    {
      "cell_type": "code",
      "source": [
        "#HW-1.2\n",
        "def is_perfect(n):\n",
        "  sum=0\n",
        "  for i in range(1,n,1):\n",
        "    if n%i==0:\n",
        "      sum+=i\n",
        "  if sum==n:\n",
        "    return True\n",
        "  else:\n",
        "    return False\n",
        "\n",
        "perfect_check=is_perfect(6)\n",
        "print(perfect_check)"
      ],
      "metadata": {
        "colab": {
          "base_uri": "https://localhost:8080/"
        },
        "id": "wEoT-1n3-Ylu",
        "outputId": "a40a4fcd-40af-45ca-eaeb-248718d1360b"
      },
      "execution_count": null,
      "outputs": [
        {
          "output_type": "stream",
          "name": "stdout",
          "text": [
            "True\n"
          ]
        }
      ]
    },
    {
      "cell_type": "code",
      "source": [
        "#HW 1.3\n",
        "def is_prime(n): #From 1.1\n",
        "  if n>1:\n",
        "    for i in range(2,n):\n",
        "      if n%i==0 :\n",
        "        return False\n",
        "    return True\n",
        "  else:\n",
        "    return False\n",
        "\n",
        "def is_perfect(n): #from 1.2\n",
        "  sum=0\n",
        "  for i in range(1,n,1):\n",
        "    if n%i==0:\n",
        "      sum+=i\n",
        "  if sum==n:\n",
        "    return True\n",
        "  else:\n",
        "    return False\n",
        "\n",
        "def special_sum(n):\n",
        "  sum=0\n",
        "\n",
        "  for i in range(2,n+1):\n",
        "    if is_prime(i) or is_perfect(i):\n",
        "      sum+=i\n",
        "  return sum\n",
        "\n",
        "result=special_sum(int(input(\"Please enter an integer:\")))\n",
        "print(result)"
      ],
      "metadata": {
        "colab": {
          "base_uri": "https://localhost:8080/"
        },
        "id": "iOOF_zbDAQm-",
        "outputId": "c9f5d4bb-8003-423d-bfa2-be7d5f2740f2"
      },
      "execution_count": null,
      "outputs": [
        {
          "output_type": "stream",
          "name": "stdout",
          "text": [
            "Please enter an integer:8\n",
            "23\n"
          ]
        }
      ]
    },
    {
      "cell_type": "code",
      "source": [
        "#HW 2.1\n",
        "\n",
        "def show_dots(n):\n",
        "  for i in range(n):\n",
        "    print(\".\",end=\"\")\n",
        "show_dots(5)"
      ],
      "metadata": {
        "colab": {
          "base_uri": "https://localhost:8080/"
        },
        "id": "9sX9MtCuq2Ls",
        "outputId": "d6b0cb31-8018-4065-a5fe-a651504c4a07"
      },
      "execution_count": null,
      "outputs": [
        {
          "output_type": "stream",
          "name": "stdout",
          "text": [
            "....."
          ]
        }
      ]
    },
    {
      "cell_type": "code",
      "source": [
        "#HW-2.2\n",
        "def show_palindrome(n):\n",
        "  for i in range(1,n+1):\n",
        "    print(i,end=\"\")\n",
        "  for j in range(n-1,0,-1):\n",
        "      print(j,end=\"\")\n",
        "show_palindrome(5)"
      ],
      "metadata": {
        "colab": {
          "base_uri": "https://localhost:8080/"
        },
        "id": "PabI1UHKtgN2",
        "outputId": "99107d3c-9383-4ad1-cc12-aca537b84856"
      },
      "execution_count": null,
      "outputs": [
        {
          "output_type": "stream",
          "name": "stdout",
          "text": [
            "123454321"
          ]
        }
      ]
    },
    {
      "cell_type": "code",
      "source": [
        "#HW 2.3\n",
        "def show_dots(n): #From 2.1\n",
        "  for i in range(1,n+1):\n",
        "    print(\".\",end=\"\")\n",
        "\n",
        "\n",
        "def show_palindrome(n): #From 2.2\n",
        "  for i in range(1,n+1):\n",
        "    print(i,end=\"\")\n",
        "  for j in range(n-1,0,-1):\n",
        "      print(j,end=\"\")\n",
        "\n",
        "def show_triangle(n):\n",
        "  colum=(n*2)-1\n",
        "  for i in range(1,n+1):\n",
        "    numbers=(i*2)-1\n",
        "    dots=int((colum-numbers)/2)\n",
        "    show_dots(dots)\n",
        "    show_palindrome(i)\n",
        "    show_dots(dots)\n",
        "    print()\n",
        "\n",
        "show_triangle(5)"
      ],
      "metadata": {
        "id": "C90RoWnmw3PJ",
        "colab": {
          "base_uri": "https://localhost:8080/"
        },
        "outputId": "c845b05c-8665-4818-a2bc-385dc098969f"
      },
      "execution_count": null,
      "outputs": [
        {
          "output_type": "stream",
          "name": "stdout",
          "text": [
            "....1....\n",
            "...121...\n",
            "..12321..\n",
            ".1234321.\n",
            "123454321\n"
          ]
        }
      ]
    },
    {
      "cell_type": "code",
      "source": [
        "#HW 3.1\n",
        "def calc_tax(age,salary):\n",
        "  if age<18:\n",
        "    return 0\n",
        "  elif salary<10000:\n",
        "    return 0\n",
        "  elif salary>10000 and salary <20000:\n",
        "    tax= salary*0.07\n",
        "    return tax\n",
        "  elif salary >20000:\n",
        "    tax=salary*0.14\n",
        "    return tax\n",
        "\n",
        "calc_tax(16,20000)\n"
      ],
      "metadata": {
        "id": "1fdbAJo-6H9v",
        "colab": {
          "base_uri": "https://localhost:8080/"
        },
        "outputId": "b7afdd28-43b6-4f88-fdbf-d4967b5e05fa"
      },
      "execution_count": null,
      "outputs": [
        {
          "output_type": "execute_result",
          "data": {
            "text/plain": [
              "1260.0000000000002"
            ]
          },
          "metadata": {},
          "execution_count": 57
        }
      ]
    },
    {
      "cell_type": "code",
      "source": [
        "#3.2\n",
        "def calc_yearly_tax():\n",
        "  age=int(input(\"Enter your age:\"))\n",
        "  yearly_tax=0\n",
        "  for i in range(1,13):\n",
        "    salary=int(input(\"Enter your Salary: \"))\n",
        "    monthly_tax=calc_tax(age,salary)\n",
        "    yearly_tax+=monthly_tax\n",
        "    print(f\"Month {i}Tax:{round(monthly_tax,2)}\")\n",
        "  print(f\"Total Yearly Tax:{yearly_tax}\")\n",
        "\n",
        "calc_yearly_tax()"
      ],
      "metadata": {
        "colab": {
          "base_uri": "https://localhost:8080/"
        },
        "id": "GnAjHJb2ErbN",
        "outputId": "dbde08b0-b93b-44fc-daa1-a5c9824822f7"
      },
      "execution_count": null,
      "outputs": [
        {
          "output_type": "stream",
          "name": "stdout",
          "text": [
            "Enter your age:22\n",
            "Enter your Salary: 8000\n",
            "Month 1Tax:0\n",
            "Enter your Salary: 15000\n",
            "Month 2Tax:1050.0\n",
            "Enter your Salary: 22000\n",
            "Month 3Tax:3080.0\n",
            "Enter your Salary: 2300\n",
            "Month 4Tax:0\n",
            "Enter your Salary: 15300\n",
            "Month 5Tax:1071.0\n",
            "Enter your Salary: 21000\n",
            "Month 6Tax:2940.0\n",
            "Enter your Salary: 34000\n",
            "Month 7Tax:4760.0\n",
            "Enter your Salary: 9000\n",
            "Month 8Tax:0\n",
            "Enter your Salary: 27000\n",
            "Month 9Tax:3780.0\n",
            "Enter your Salary: 88000\n",
            "Month 10Tax:12320.0\n",
            "Enter your Salary: 32000\n",
            "Month 11Tax:4480.0\n",
            "Enter your Salary: 7300\n",
            "Month 12Tax:0\n",
            "Total Yearly Tax:33481.0\n"
          ]
        }
      ]
    },
    {
      "cell_type": "code",
      "source": [
        "#HW4.1\n",
        "def reverse_digits(n):\n",
        "  if n<10:\n",
        "    print(n)\n",
        "  else:\n",
        "    print (n%10)\n",
        "    reverse_digits(n//10)\n",
        "reverse_digits(649)"
      ],
      "metadata": {
        "colab": {
          "base_uri": "https://localhost:8080/"
        },
        "id": "JH9Hcg6YIqAB",
        "outputId": "cb16d621-8bb3-4057-9fbd-84e7ab9fc607"
      },
      "execution_count": null,
      "outputs": [
        {
          "output_type": "stream",
          "name": "stdout",
          "text": [
            "9\n",
            "4\n",
            "6\n"
          ]
        }
      ]
    },
    {
      "cell_type": "code",
      "source": [
        "n=343999//10\n",
        "print(n)"
      ],
      "metadata": {
        "colab": {
          "base_uri": "https://localhost:8080/"
        },
        "id": "okY0-uwtqLBS",
        "outputId": "e7a9beed-1977-4b0d-e5e3-cbcbe5c06995"
      },
      "execution_count": null,
      "outputs": [
        {
          "output_type": "stream",
          "name": "stdout",
          "text": [
            "34399\n"
          ]
        }
      ]
    },
    {
      "cell_type": "code",
      "source": [
        "#HW 4.2\n",
        "def power(a,n):\n",
        "  if n==0:\n",
        "    return 1\n",
        "  elif n==1:\n",
        "    return a\n",
        "  else:\n",
        "    return a**n\n",
        "result=power(9,4)\n",
        "print(result)\n"
      ],
      "metadata": {
        "colab": {
          "base_uri": "https://localhost:8080/"
        },
        "id": "Db12kyOLKckC",
        "outputId": "60701e9e-df57-4eac-897e-b1ac2d8d2ba2"
      },
      "execution_count": null,
      "outputs": [
        {
          "output_type": "stream",
          "name": "stdout",
          "text": [
            "6561\n"
          ]
        }
      ]
    },
    {
      "cell_type": "code",
      "source": [
        "#HW 5.0\n",
        "def sequence_inerative(n):\n",
        "  y=0\n",
        "  for i in range(1,n+1):\n",
        "    if i%2==0:\n",
        "      y-=i\n",
        "    else:\n",
        "      y+=i\n",
        "  return y\n",
        "\n",
        "result=sequence_inerative(5)\n",
        "print(result)\n"
      ],
      "metadata": {
        "colab": {
          "base_uri": "https://localhost:8080/"
        },
        "id": "cVPArEzhL9G8",
        "outputId": "16a8f17f-aaac-4168-9dbe-1af1ec8e2d7d"
      },
      "execution_count": null,
      "outputs": [
        {
          "output_type": "stream",
          "name": "stdout",
          "text": [
            "3\n"
          ]
        }
      ]
    },
    {
      "cell_type": "code",
      "source": [
        "from types import new_class\n",
        "#HW 5.1\n",
        "def sequence_recursive(n):\n",
        "    if n == 1:\n",
        "        return 1\n",
        "    else:\n",
        "        if n % 2 == 0:\n",
        "            return sequence_recursive(n - 1) - n\n",
        "        else:\n",
        "            return sequence_recursive(n - 1) + n\n",
        "\n",
        "\n",
        "result = sequence_recursive(5)\n",
        "print(result)"
      ],
      "metadata": {
        "colab": {
          "base_uri": "https://localhost:8080/"
        },
        "id": "Rya8qJ6bTJTl",
        "outputId": "8dd815d2-d4d0-4fa3-e4d9-a31cbf93385d"
      },
      "execution_count": null,
      "outputs": [
        {
          "output_type": "stream",
          "name": "stdout",
          "text": [
            "3\n"
          ]
        }
      ]
    }
  ]
}