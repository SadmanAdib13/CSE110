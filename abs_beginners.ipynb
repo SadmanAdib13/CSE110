{
  "nbformat": 4,
  "nbformat_minor": 0,
  "metadata": {
    "colab": {
      "provenance": [],
      "authorship_tag": "ABX9TyNIJBUdmRIu+kWUHBXl794x",
      "include_colab_link": true
    },
    "kernelspec": {
      "name": "python3",
      "display_name": "Python 3"
    },
    "language_info": {
      "name": "python"
    }
  },
  "cells": [
    {
      "cell_type": "markdown",
      "metadata": {
        "id": "view-in-github",
        "colab_type": "text"
      },
      "source": [
        "<a href=\"https://colab.research.google.com/github/SadmanAdib13/First-Project/blob/main/abs_beginners.ipynb\" target=\"_parent\"><img src=\"https://colab.research.google.com/assets/colab-badge.svg\" alt=\"Open In Colab\"/></a>"
      ]
    },
    {
      "cell_type": "markdown",
      "source": [
        "Beginner Type Tasks. (CSE 110)\n"
      ],
      "metadata": {
        "id": "GTzNxqJoPzux"
      }
    },
    {
      "cell_type": "code",
      "source": [
        "x=input(\"Please enter a string:\")\n",
        "y=int(input(\"Please Enter a number\"))\n",
        "print( f'String:{x}')\n",
        "print( f'integer:{y}')"
      ],
      "metadata": {
        "id": "ttJpiwoGvM_X",
        "colab": {
          "base_uri": "https://localhost:8080/"
        },
        "outputId": "2ff7c1ab-26ee-47be-946d-b2dbc38bb7a8"
      },
      "execution_count": null,
      "outputs": [
        {
          "output_type": "stream",
          "name": "stdout",
          "text": [
            "Please enter a string:F\n",
            "Please Enter a number23\n",
            "String:F\n",
            "integer:23\n"
          ]
        }
      ]
    },
    {
      "cell_type": "code",
      "source": [
        "\n",
        "x=int(input(\"Enter a number:\"))\n",
        "y=int(input(\"Enter a number:\"))\n",
        "z=x*y\n",
        "\n",
        "print(f'Multiplication:{z}')"
      ],
      "metadata": {
        "id": "1ISdbeBBzaeb",
        "colab": {
          "base_uri": "https://localhost:8080/"
        },
        "outputId": "1f0a5b5c-d4d8-467e-c405-3fcd58d1594f"
      },
      "execution_count": null,
      "outputs": [
        {
          "output_type": "stream",
          "name": "stdout",
          "text": [
            "Enter a number:2\n",
            "Enter a number:3\n",
            "Multiplication:6\n"
          ]
        }
      ]
    },
    {
      "cell_type": "code",
      "source": [
        "x=int(input(\"Enter a number:\"))\n",
        "y=int(input(\"Enter a number:\"))\n",
        "addition=x+y\n",
        "subtraction=x-y\n",
        "print(f'Addition:{addition}')\n",
        "print(f'subtraction:{subtraction}')"
      ],
      "metadata": {
        "id": "N80mH6f9z0I3",
        "colab": {
          "base_uri": "https://localhost:8080/"
        },
        "outputId": "f2a28115-162f-4016-9ca4-2f45b013655f"
      },
      "execution_count": null,
      "outputs": [
        {
          "output_type": "stream",
          "name": "stdout",
          "text": [
            "Enter a number:7\n",
            "Enter a number:2\n",
            "Addition:9\n",
            "subtraction:5\n"
          ]
        }
      ]
    },
    {
      "cell_type": "code",
      "source": [
        "x=int(input(\"Enter a number:\"))\n",
        "y=int(input(\"Enter a number:\"))\n",
        "z=float(x)\n",
        "m=str(x)\n",
        "n=str(y)\n",
        "add=m+n\n",
        "print(f'm+n={add}')\n"
      ],
      "metadata": {
        "id": "pUqUQKZG5Eiu",
        "colab": {
          "base_uri": "https://localhost:8080/"
        },
        "outputId": "e588c305-ef07-4ef3-a9e3-f929c679f7b3"
      },
      "execution_count": null,
      "outputs": [
        {
          "output_type": "stream",
          "name": "stdout",
          "text": [
            "Enter a number:1\n",
            "Enter a number:166\n",
            "m+n=1166\n"
          ]
        }
      ]
    },
    {
      "cell_type": "code",
      "source": [
        "x=int(input(\"Enter a number:\"))\n",
        "y=int(input(\"Enter a number:\"))\n",
        "m=x**y\n",
        "print(f'{x}^{y}:{m}')"
      ],
      "metadata": {
        "id": "W44BFYg65tBy",
        "colab": {
          "base_uri": "https://localhost:8080/"
        },
        "outputId": "7aed25e2-497c-4232-b170-7213f40976a0"
      },
      "execution_count": null,
      "outputs": [
        {
          "output_type": "stream",
          "name": "stdout",
          "text": [
            "Enter a number:2\n",
            "Enter a number:9\n",
            "2^9:512\n"
          ]
        }
      ]
    },
    {
      "cell_type": "code",
      "source": [
        "goods=int(input(\"Enter goods number:\"))\n",
        "loads=goods%4\n",
        "maximum=goods-loads\n",
        "print(f'{maximum}')"
      ],
      "metadata": {
        "id": "zqUFoSXX9ZYB",
        "colab": {
          "base_uri": "https://localhost:8080/"
        },
        "outputId": "951c6209-2534-4580-f01f-91d0c94bab7e"
      },
      "execution_count": null,
      "outputs": [
        {
          "output_type": "stream",
          "name": "stdout",
          "text": [
            "Enter goods number:23\n",
            "20\n"
          ]
        }
      ]
    },
    {
      "cell_type": "code",
      "source": [
        "A=int(input('Enter an integar:'))\n",
        "B=int(input('Enter an integar:'))\n",
        "C=int(input('Enter an integar:'))\n",
        "D=float(input('Enter a float:'))\n",
        "\n",
        "formula=A**C+(2*B)*(A//2)-D/3\n",
        "print(f'Result:{formula}')"
      ],
      "metadata": {
        "colab": {
          "base_uri": "https://localhost:8080/"
        },
        "id": "eroegsrm-ijR",
        "outputId": "103e1671-5159-4e65-d17b-e6a509a361c6"
      },
      "execution_count": null,
      "outputs": [
        {
          "output_type": "stream",
          "name": "stdout",
          "text": [
            "Enter an integar:23\n",
            "Enter an integar:23\n",
            "Enter an integar:1\n",
            "Enter a float:4.5\n",
            "Result:527.5\n"
          ]
        }
      ]
    },
    {
      "cell_type": "code",
      "source": [
        "a=input(\"First name:\")\n",
        "b=input(\"last name:\")\n",
        "c=int(input(\"Age:\"))\n",
        "d=float(input('CGPA:'))\n",
        "h=str(\"Rahman\")\n",
        "sub=c-2\n",
        "add=d+0.25\n",
        "print(f'C-2={sub}')\n",
        "print(f'd+0.25={add}')\n",
        "print(f'Last name:{h }')"
      ],
      "metadata": {
        "colab": {
          "base_uri": "https://localhost:8080/"
        },
        "id": "h542cRnAAQjj",
        "outputId": "603f651c-b6ad-40f8-f94e-97e51be57408"
      },
      "execution_count": null,
      "outputs": [
        {
          "output_type": "stream",
          "name": "stdout",
          "text": [
            "First name:Sakib\n",
            "last name:Hasan\n",
            "Age:23\n",
            "CGPA:4\n",
            "C-2=21\n",
            "d+0.25=4.25\n",
            "Last name:Rahman\n"
          ]
        }
      ]
    }
  ]
}