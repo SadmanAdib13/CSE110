{
  "nbformat": 4,
  "nbformat_minor": 0,
  "metadata": {
    "colab": {
      "provenance": [],
      "authorship_tag": "ABX9TyPxkGs5O1DRuAlyHI0bPPyv",
      "include_colab_link": true
    },
    "kernelspec": {
      "name": "python3",
      "display_name": "Python 3"
    },
    "language_info": {
      "name": "python"
    }
  },
  "cells": [
    {
      "cell_type": "markdown",
      "metadata": {
        "id": "view-in-github",
        "colab_type": "text"
      },
      "source": [
        "<a href=\"https://colab.research.google.com/github/SadmanAdib13/First-Project/blob/main/Loop_HT(CSE110).ipynb\" target=\"_parent\"><img src=\"https://colab.research.google.com/assets/colab-badge.svg\" alt=\"Open In Colab\"/></a>"
      ]
    },
    {
      "cell_type": "code",
      "source": [
        "\n",
        "#Home_task_1\n",
        "x=input(\"Enter any string:\")\n",
        "output=\"\"\n",
        "for ch in x:\n",
        "\n",
        "  if ch not in output:\n",
        "   output=output+ch\n",
        "\n",
        "\n",
        "\n",
        "print(output)"
      ],
      "metadata": {
        "id": "comh-di2HCfl"
      },
      "execution_count": null,
      "outputs": []
    },
    {
      "cell_type": "code",
      "source": [
        "\n",
        "\n",
        "\n",
        "#Home_Task_2\n",
        "x = input(\"Enter the first string: \")\n",
        "y = input(\"Enter the second string: \")\n",
        "i = 0\n",
        "j = 0\n",
        "sum = \"\"\n",
        "\n",
        "while i < len(x) or j < len(y):\n",
        "    if i < len(x):\n",
        "        sum = sum + x[i]\n",
        "        i += 1\n",
        "    if j < len(y):\n",
        "        sum = sum + y[j]\n",
        "        j += 1\n",
        "\n",
        "print(sum)"
      ],
      "metadata": {
        "id": "IwZjwPeAjgfO"
      },
      "execution_count": null,
      "outputs": []
    },
    {
      "cell_type": "code",
      "source": [
        "#Home_Task_3\n",
        "word = input(\"Enter the word: \")\n",
        "new = \"\"\n",
        "\n",
        "for i in word:\n",
        "    asci = ord(i)\n",
        "    if asci == ord('z'):\n",
        "        new = new + 'a'\n",
        "    else:\n",
        "        new= new + chr(asci + 1)\n",
        "\n",
        "print(new)"
      ],
      "metadata": {
        "colab": {
          "base_uri": "https://localhost:8080/"
        },
        "id": "aGjEQ0gzkU2M",
        "outputId": "26c637e3-cc5d-4a37-9321-3fb9ec976a02"
      },
      "execution_count": null,
      "outputs": [
        {
          "output_type": "stream",
          "name": "stdout",
          "text": [
            "Enter the word: abcd\n",
            "bcde\n"
          ]
        }
      ]
    },
    {
      "cell_type": "code",
      "source": [
        "#Home_Task_4\n",
        "#Home Task 4\n",
        "user = input(\"Please enter your string: \")\n",
        "length = len(user)\n",
        "new = \"\"\n",
        "position = 0\n",
        "for i in range(length):\n",
        "    if user[i] == \" \":\n",
        "      new = new + user[i]\n",
        "    else:\n",
        "      if position%2 == 0:\n",
        "        if ord(user[i])>= 65 and ord (user[i])<= 90:\n",
        "            new = new + user[i]\n",
        "        else:\n",
        "            new = new + chr(ord(user[i])-32)\n",
        "            position = position+1\n",
        "      else:\n",
        "          if ord(user[i])>= 65 and ord(user[i])<= 90:\n",
        "              new = new + chr(ord(user[i])+32)\n",
        "          else:\n",
        "              new = new + user[i]\n",
        "          position = position +1\n",
        "print(new)"
      ],
      "metadata": {
        "id": "cWDbQXLJlaCe"
      },
      "execution_count": null,
      "outputs": []
    }
  ]
}