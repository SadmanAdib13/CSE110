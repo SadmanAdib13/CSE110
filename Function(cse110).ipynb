{
  "nbformat": 4,
  "nbformat_minor": 0,
  "metadata": {
    "colab": {
      "provenance": [],
      "authorship_tag": "ABX9TyOB8/JDcmfZ5qBAXyKhqzr5",
      "include_colab_link": true
    },
    "kernelspec": {
      "name": "python3",
      "display_name": "Python 3"
    },
    "language_info": {
      "name": "python"
    }
  },
  "cells": [
    {
      "cell_type": "markdown",
      "metadata": {
        "id": "view-in-github",
        "colab_type": "text"
      },
      "source": [
        "<a href=\"https://colab.research.google.com/github/SadmanAdib13/First-Project/blob/main/Function(cse110).ipynb\" target=\"_parent\"><img src=\"https://colab.research.google.com/assets/colab-badge.svg\" alt=\"Open In Colab\"/></a>"
      ]
    },
    {
      "cell_type": "code",
      "execution_count": null,
      "metadata": {
        "colab": {
          "base_uri": "https://localhost:8080/"
        },
        "id": "HYlRbXoGt9dl",
        "outputId": "a609d983-ad22-4ed7-f732-2ce438f1f663"
      },
      "outputs": [
        {
          "output_type": "stream",
          "name": "stdout",
          "text": [
            "Heighest fee was 1200, which was paid by Steyn.\n"
          ]
        }
      ],
      "source": [
        "def hospital_fee(**kwargs):\n",
        "    max_amount=max(kwargs.values())\n",
        "    #max_player=[name for name,amount in kwargs.items() if amount==max_amount]\n",
        "\n",
        "    max_player=[]\n",
        "    for name,amount in kwargs.items():\n",
        "        if amount==max_amount:\n",
        "         max_player.append(name)\n",
        "    return max_amount,max_player\n",
        "\n",
        "\n",
        "max_amount,max_player=hospital_fee(Masrafee=400,Bumrah=900,Steyn=1200,Cummins=900,Wood=400,Marsh=700)\n",
        "print(f\"Heighest fee was {max_amount}, which was paid by {','.join(max_player)}.\")\n",
        "\n",
        "\n",
        "\n",
        "\n"
      ]
    },
    {
      "cell_type": "code",
      "source": [
        "def is_james_bond(given_list):\n",
        "    #print(len(given_list)-2)\n",
        "    for i in range(len(given_list)-2):\n",
        "        if given_list[i]==0 and given_list[i+1]==0 and given_list[i+2]==7:\n",
        "            return True\n",
        "    return False\n",
        "print(is_james_bond([1,2,4,0,0,7,5]))\n",
        "print(is_james_bond([1,7,2,0,4,5,0]))\n",
        "print(is_james_bond([1,0,2,0,4,7,5]))\n"
      ],
      "metadata": {
        "id": "PqCcobCr00_7",
        "outputId": "b946c26a-f7c1-401c-adc1-bda3eba284e4",
        "colab": {
          "base_uri": "https://localhost:8080/"
        }
      },
      "execution_count": null,
      "outputs": [
        {
          "output_type": "stream",
          "name": "stdout",
          "text": [
            "True\n",
            "False\n",
            "False\n"
          ]
        }
      ]
    },
    {
      "cell_type": "code",
      "source": [
        "import random\n",
        "\n",
        "def playRockPaperScissors(rounds):\n",
        "    Your_score = 0\n",
        "    Computer_score = 0\n",
        "\n",
        "    input_list = []\n",
        "    while True:\n",
        "        i = input().lower()\n",
        "        input_list.extend(i.split())\n",
        "\n",
        "        if len(input_list) == rounds:\n",
        "            break\n",
        "\n",
        "\n",
        "    for i in range(0, len(input_list)):\n",
        "        X = random.choice(['rock', 'paper', 'scissors'])\n",
        "        print(X)\n",
        "\n",
        "        if input_list[i] == \"rock\" and X == \"scissors\":\n",
        "            Your_score += 1\n",
        "        elif input_list[i] == \"rock\" and X == \"paper\":\n",
        "            Computer_score += 1\n",
        "\n",
        "        elif input_list[i] == \"paper\" and X == \"scissors\":\n",
        "            Computer_score += 1\n",
        "        elif input_list[i] == \"paper\" and X == \"rock\":\n",
        "            Your_score += 1\n",
        "\n",
        "        elif input_list[i] == \"scissors\" and X == \"rock\":\n",
        "            Computer_score += 1\n",
        "        elif input_list[i] == \"scissors\" and X == \"paper\":\n",
        "            Your_score += 1\n",
        "\n",
        "    print(\"Your Score:\", Your_score)\n",
        "    print(\"Computer's Score:\", Computer_score)\n",
        "\n",
        "    if Your_score > Computer_score:\n",
        "        print(\"You have won the game!\")\n",
        "    elif Your_score < Computer_score:\n",
        "        print(\"Computer has won the game!\")\n",
        "    else:\n",
        "        print(\"Tie!\")\n",
        "\n",
        "playRockPaperScissors(int(input(\"Enter the number of rounds: \")))\n"
      ],
      "metadata": {
        "colab": {
          "base_uri": "https://localhost:8080/"
        },
        "id": "ird0Cn8Odu2p",
        "outputId": "6dc22201-82f8-44cf-89df-5bd908c5be02"
      },
      "execution_count": null,
      "outputs": [
        {
          "output_type": "stream",
          "name": "stdout",
          "text": [
            "Enter the number of rounds: 3\n",
            "rock\n",
            "paper\n",
            "scissors\n",
            "scissors\n",
            "rock\n",
            "rock\n",
            "Your Score: 2\n",
            "Computer's Score: 1\n",
            "You have won the game!\n"
          ]
        }
      ]
    },
    {
      "cell_type": "code",
      "source": [
        "def username_generator(first, last, digit, middle=''):\n",
        "    first = first[0:3].upper()\n",
        "    last = last[-1:-4:-1].lower()\n",
        "    digit = digit[-1:-5:-1]\n",
        "\n",
        "    user_name = ''.join([first, middle, last, '_', digit])\n",
        "\n",
        "    return user_name\n",
        "\n",
        "first_name,middle_name,last_name,student_id = input(\"First Name: \"),input(\"Middle Name: \"),input(\"Last Name: \"),int(input(\"Student ID: \"))\n",
        "\n",
        "\n",
        "print(username_generator(first_name, last_name, str(student_id), middle_name))\n"
      ],
      "metadata": {
        "colab": {
          "base_uri": "https://localhost:8080/"
        },
        "id": "5TFI51PiFeJN",
        "outputId": "8185ed4c-6098-4307-e2d2-d26804e75d8a"
      },
      "execution_count": null,
      "outputs": [
        {
          "output_type": "stream",
          "name": "stdout",
          "text": [
            "First Name: Sakib\n",
            "Middle Name: Bal\n",
            "Last Name: Hasan\n",
            "Student ID: 69696969\n",
            "SAKBalnas_9696\n"
          ]
        }
      ]
    }
  ]
}