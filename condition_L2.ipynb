{
  "nbformat": 4,
  "nbformat_minor": 0,
  "metadata": {
    "colab": {
      "provenance": [],
      "authorship_tag": "ABX9TyO1FtPRpnz7fat0EOfjeo+E",
      "include_colab_link": true
    },
    "kernelspec": {
      "name": "python3",
      "display_name": "Python 3"
    },
    "language_info": {
      "name": "python"
    }
  },
  "cells": [
    {
      "cell_type": "markdown",
      "metadata": {
        "id": "view-in-github",
        "colab_type": "text"
      },
      "source": [
        "<a href=\"https://colab.research.google.com/github/SadmanAdib13/First-Project/blob/main/condition_L2.ipynb\" target=\"_parent\"><img src=\"https://colab.research.google.com/assets/colab-badge.svg\" alt=\"Open In Colab\"/></a>"
      ]
    },
    {
      "cell_type": "code",
      "execution_count": null,
      "metadata": {
        "colab": {
          "base_uri": "https://localhost:8080/"
        },
        "id": "w9IQv13mdQjO",
        "outputId": "ed349187-007d-4ff7-e83b-cec534a0ed7d"
      },
      "outputs": [
        {
          "output_type": "stream",
          "name": "stdout",
          "text": [
            "Please enter a number:-7\n",
            "The number is odd\n"
          ]
        }
      ],
      "source": [
        "x=int(input(\"Please enter a number:\"))\n",
        "\n",
        "if x%2==0:\n",
        "  print(\"The number is ever.\")\n",
        "elif x%2 !=0:\n",
        "  print(\"The number is odd\")"
      ]
    },
    {
      "cell_type": "code",
      "source": [
        "x=int(input(\"Enter first number:\"))\n",
        "y=int(input(\"Enter second number:\"))\n",
        "if x>y:\n",
        "  print(\"First is greater.\")\n",
        "elif x>y:\n",
        "  print(\"Second is Greater.\")\n",
        "else :\n",
        "   print(\"The number is equal.\")"
      ],
      "metadata": {
        "colab": {
          "base_uri": "https://localhost:8080/"
        },
        "id": "2LkSalL4zaTj",
        "outputId": "9652731b-e285-4b0a-ff2d-93643933970c"
      },
      "execution_count": null,
      "outputs": [
        {
          "output_type": "stream",
          "name": "stdout",
          "text": [
            "Enter first number:7\n",
            "Enter second number:0\n",
            "First is greater.\n"
          ]
        }
      ]
    },
    {
      "cell_type": "code",
      "source": [
        "x=int(input(\"Enter a number: \"))\n",
        "\n",
        "if x%2==0 or x%5==0:\n",
        "  print(x)\n",
        "else :\n",
        "  print(\"The number is not a multiple 2 or 5\")"
      ],
      "metadata": {
        "colab": {
          "base_uri": "https://localhost:8080/"
        },
        "id": "itdmHim11IVV",
        "outputId": "2b60aa51-e456-4449-c481-dce2ac4d9731"
      },
      "execution_count": null,
      "outputs": [
        {
          "output_type": "stream",
          "name": "stdout",
          "text": [
            "Enter a number: 8\n",
            "8\n"
          ]
        }
      ]
    },
    {
      "cell_type": "code",
      "source": [
        "x=int(input(\"Enter a number: \"))\n",
        "\n",
        "if x%2==0 or x%5==0:\n",
        "  print(x)\n",
        "else:\n",
        "  print (\"Not a multiple of 2 or 5 both\")"
      ],
      "metadata": {
        "colab": {
          "base_uri": "https://localhost:8080/"
        },
        "id": "UgGi_bgN1IfM",
        "outputId": "52f2dce0-7f65-4188-e47d-31fbef251ec5"
      },
      "execution_count": null,
      "outputs": [
        {
          "output_type": "stream",
          "name": "stdout",
          "text": [
            "Enter a number: 7\n",
            "Not a multiple of 2 or 5 both\n"
          ]
        }
      ]
    },
    {
      "cell_type": "code",
      "source": [
        "cgpa=float(input(\"Enter your CGPA: \"))\n",
        "credit=int(input(\"Enter your Credit:\"))\n",
        "if cgpa<3.8 or credit<30:\n",
        "  print(\"The student is not eligable for a weaver.\")\n",
        "elif cgpa>=3.80 and cgpa<=3.89:\n",
        "  print(\"The student is eligable for a weaver of 25 percent\")\n",
        "elif cgpa>=3.90 and cgpa<=3.94:\n",
        "  print(\"50 percent\")\n",
        "elif cgpa>=3.95 and cgpa<=3.99:\n",
        "  print(\"The student is eligable for a weaver of 75 percent\")\n",
        "elif cgpa==4:\n",
        "  print(\"The student is eligable for a weaver of 100 percent\")\n"
      ],
      "metadata": {
        "colab": {
          "base_uri": "https://localhost:8080/"
        },
        "id": "uuuPGQ2K3-Qw",
        "outputId": "27d3f06c-314a-4073-de70-af3ad0280714"
      },
      "execution_count": null,
      "outputs": [
        {
          "output_type": "stream",
          "name": "stdout",
          "text": [
            "Enter your CGPA: 4\n",
            "Enter your Credit:50\n",
            "The student is eligable for a weaver of 100 percent\n"
          ]
        }
      ]
    },
    {
      "cell_type": "code",
      "source": [
        "\n",
        "hours=int(input(\"Enter working hours: \"))\n",
        "if hours<0:\n",
        "  print(\"Hours cannot be negative.\")\n",
        "elif hours>168:\n",
        "  print(\"Imposible to work more than 168 hours a week.\")\n",
        "elif hours<=40:\n",
        "  salary=hours*200\n",
        "  print(salary)\n",
        "elif hours>40:\n",
        "  salary=8000+(hours-40)*300\n",
        "  print(salary)\n"
      ],
      "metadata": {
        "colab": {
          "base_uri": "https://localhost:8080/"
        },
        "id": "hLIJby0z-mMt",
        "outputId": "4e3554bb-c30b-4299-99f8-327dc6912e4f"
      },
      "execution_count": null,
      "outputs": [
        {
          "output_type": "stream",
          "name": "stdout",
          "text": [
            "Enter working hours: 41\n",
            "8300\n"
          ]
        }
      ]
    },
    {
      "cell_type": "code",
      "source": [
        "seconds=int(input(\"Enter seconds: \"))\n",
        "hours=seconds//3600\n",
        "seconds=seconds%3600\n",
        "minutes=seconds//60\n",
        "seconds=seconds%60\n",
        "# seconds=seconds//60\n",
        "print(f\"Hours:{hours}\\nMinutes:{minutes}\\nSeconds:{seconds}\")"
      ],
      "metadata": {
        "colab": {
          "base_uri": "https://localhost:8080/"
        },
        "id": "eJlUlYWRAuGq",
        "outputId": "ad614cfc-3d2b-4b1e-8a61-cc7016d89184"
      },
      "execution_count": null,
      "outputs": [
        {
          "output_type": "stream",
          "name": "stdout",
          "text": [
            "Enter seconds: 500\n",
            "Hours:0\n",
            "Minutes:8\n",
            "Seconds:20\n"
          ]
        }
      ]
    },
    {
      "cell_type": "code",
      "source": [
        "d=int(input(\"Enter distance in meter:\"))\n",
        "t=int(input(\"Enter time in seconds:\"))\n",
        "d=d//1000\n",
        "t=t//3600\n",
        "v=d/t\n",
        "if v<60:\n",
        "  print(f\"{v} km/h\")\n",
        "  print(\"Too slow. It needs more changes.\")\n",
        "elif v<=60 and v>=90:\n",
        "  print(f\"{v} km/h\")\n",
        "  print(\"Velocity is okey .the car is ready.\")\n",
        "elif v>90:\n",
        "  print(f\"{v} km/h\")\n",
        "  print(\"Too fast.Only a few changes should suffice.\")"
      ],
      "metadata": {
        "colab": {
          "base_uri": "https://localhost:8080/"
        },
        "id": "H4DvwDZOCvOK",
        "outputId": "e11a5c80-c4ce-4c61-e92d-26fba1e4d9fb"
      },
      "execution_count": null,
      "outputs": [
        {
          "output_type": "stream",
          "name": "stdout",
          "text": [
            "Enter distance in meter:25400\n",
            "Enter time in seconds:3600\n",
            "25.0 km/h\n",
            "Too slow. It needs more changes.\n"
          ]
        }
      ]
    }
  ]
}