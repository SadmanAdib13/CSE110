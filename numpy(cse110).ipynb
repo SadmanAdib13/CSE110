{
  "nbformat": 4,
  "nbformat_minor": 0,
  "metadata": {
    "colab": {
      "provenance": [],
      "authorship_tag": "ABX9TyM7y1A850Fa71hKG1vx1lq8",
      "include_colab_link": true
    },
    "kernelspec": {
      "name": "python3",
      "display_name": "Python 3"
    },
    "language_info": {
      "name": "python"
    }
  },
  "cells": [
    {
      "cell_type": "markdown",
      "metadata": {
        "id": "view-in-github",
        "colab_type": "text"
      },
      "source": [
        "<a href=\"https://colab.research.google.com/github/SadmanAdib13/First-Project/blob/main/numpy(cse110).ipynb\" target=\"_parent\"><img src=\"https://colab.research.google.com/assets/colab-badge.svg\" alt=\"Open In Colab\"/></a>"
      ]
    },
    {
      "cell_type": "code",
      "execution_count": null,
      "metadata": {
        "id": "4emi4HY-LXCT"
      },
      "outputs": [],
      "source": [
        "import numpy as np"
      ]
    },
    {
      "cell_type": "code",
      "source": [
        "#Task 1\n",
        "import numpy as np\n",
        "n=int(input(\"Enter a number:\"))\n",
        "array=np.zeros(n,dtype=int)\n",
        "print(array)\n",
        "\n",
        "for i in range(n):\n",
        "  array[i]=int(input(\"Enter a number for the array:\"))\n",
        "print (\"Original Array :\",array)\n",
        "\n",
        "new_array=np.zeros(n+1,dtype=int)\n",
        "\n",
        "for j in range(n):\n",
        "  new_array[j]=array[j]\n",
        "\n",
        "m=int(input(\"Enter a new number:\"))\n",
        "new_array[n]=m\n",
        "\n",
        "print(\"Resized Array:\",new_array)\n"
      ],
      "metadata": {
        "id": "t1T_H6WyLqhv",
        "colab": {
          "base_uri": "https://localhost:8080/"
        },
        "outputId": "7384b220-3689-4bdf-d297-61319eb27334"
      },
      "execution_count": null,
      "outputs": [
        {
          "output_type": "stream",
          "name": "stdout",
          "text": [
            "Enter a number:3\n",
            "[0 0 0]\n",
            "Enter a number for the array:5\n",
            "Enter a number for the array:6\n",
            "Enter a number for the array:2\n",
            "Original Array : [5 6 2]\n",
            "Enter a new number:9\n",
            "Resized Array: [5 6 2 9]\n"
          ]
        }
      ]
    },
    {
      "cell_type": "code",
      "source": [
        "#Task 2\n",
        "n=int(input(\"Enter array size :\"))\n",
        "array=np.zeros(n,dtype=int)\n",
        "for i in range(n):\n",
        "  array[i]=int(input())\n",
        "\n",
        "print(\"Original array :\",array)\n",
        "\n",
        "new_array=np.zeros(n,dtype=int)\n",
        "for i in range(n):\n",
        "  if array[i]==0 or array[i]<0:\n",
        "    new_array[i]=0\n",
        "\n",
        "  else :\n",
        "    new_array[i]=1\n",
        "\n",
        "print(\"After modifying :\",new_array)\n"
      ],
      "metadata": {
        "colab": {
          "base_uri": "https://localhost:8080/"
        },
        "id": "OuyAen1bhJOf",
        "outputId": "d0eea329-c180-4bb5-cd22-79f998d75995"
      },
      "execution_count": null,
      "outputs": [
        {
          "output_type": "stream",
          "name": "stdout",
          "text": [
            "Enter array size :5\n",
            "4\n",
            "3\n",
            "4\n",
            "-2\n",
            "1\n",
            "Original array : [ 4  3  4 -2  1]\n",
            "After modifying : [1 1 1 0 1]\n"
          ]
        }
      ]
    },
    {
      "cell_type": "code",
      "source": [
        "#Task 3\n",
        "import numpy as np\n",
        "def reverseArray(n):\n",
        "\n",
        "\n",
        "  i=0\n",
        "  j=n.size-1\n",
        "\n",
        "  while i<j:\n",
        "    n[i],n[j]=n[j],n[i]\n",
        "    i=+1\n",
        "    j=-1\n",
        "  return n\n",
        "\n",
        "\n",
        "arr1=np.array([10,12,20,5,7])\n",
        "arr1=reverseArray(arr1)\n",
        "print(arr1)"
      ],
      "metadata": {
        "colab": {
          "base_uri": "https://localhost:8080/"
        },
        "id": "GijWELhQmLqd",
        "outputId": "986e5780-2641-4149-c488-076b114ec835"
      },
      "execution_count": null,
      "outputs": [
        {
          "output_type": "stream",
          "name": "stdout",
          "text": [
            "[ 7 12 20  5 10]\n"
          ]
        }
      ]
    },
    {
      "cell_type": "code",
      "source": [
        "#Task 4\n",
        "def printParis(array,result):\n",
        "  flag=False\n",
        "  for i in range (array.size):\n",
        "    for j in range(i+1,array.size):\n",
        "      if array[i]+array[j]==result:\n",
        "        flag=True\n",
        "        print(array[i],array[j])\n",
        "  if flag==False:\n",
        "    print(\"No pair found.\")\n",
        "\n",
        "arr1=np.array([7,8,10,5,3,4,2])\n",
        "printParis(arr1,15)"
      ],
      "metadata": {
        "colab": {
          "base_uri": "https://localhost:8080/"
        },
        "id": "Y4MAWPm26FMN",
        "outputId": "1139d515-4cf7-44df-bd85-5f88167f74c9"
      },
      "execution_count": null,
      "outputs": [
        {
          "output_type": "stream",
          "name": "stdout",
          "text": [
            "7 8\n",
            "10 5\n"
          ]
        }
      ]
    },
    {
      "cell_type": "code",
      "source": [
        "#Task 5\n",
        "vec1=np.array([1,2,3])\n",
        "vec2=np.array([4,5,6])\n",
        "dot_prod=0\n",
        "\n",
        "for i in range(vec1.size):\n",
        "  dot_prod=dot_prod+vec1[i]*vec2[i]\n",
        "print(\"Dot Product :\",dot_prod)\n",
        "if dot_prod%2==0:\n",
        "  for j in range(vec1.size):\n",
        "    if j%2==0:\n",
        "      vec1[j],vec2[j]=vec2[j],vec1[j]\n",
        "\n",
        "else:\n",
        "  for j in range(vec1.size):\n",
        "    if j%2!=0:\n",
        "      vec1[j],vec2[j]=vec2[j],vec1[j]\n",
        "\n",
        "print(\"After Swaping:\")\n",
        "print(vec1)\n",
        "print(vec2)"
      ],
      "metadata": {
        "colab": {
          "base_uri": "https://localhost:8080/"
        },
        "id": "_oMX5OJv7aQ5",
        "outputId": "4c38805c-517b-4922-accc-5a39a00feb84"
      },
      "execution_count": null,
      "outputs": [
        {
          "output_type": "stream",
          "name": "stdout",
          "text": [
            "Dot Product : 32\n",
            "After Swaping:\n",
            "[4 2 6]\n",
            "[1 5 3]\n"
          ]
        }
      ]
    },
    {
      "cell_type": "code",
      "source": [
        "#task6\n",
        "import numpy as np\n",
        "\n",
        "n = int(input(\"Enter the size of the array: \"))\n",
        "array = np.zeros(n, dtype=int)\n",
        "\n",
        "for i in range(n):\n",
        "    array[i] = int(input(\"Enter a number: \"))\n",
        "print(\"Original Array:\", array)\n",
        "\n",
        "for i in range(n-1):\n",
        "    temp = i\n",
        "    for j in range(i+1, n):\n",
        "        if array[j] < array[temp]:\n",
        "            temp = j\n",
        "    if i != temp:\n",
        "        array[i], array[temp] = array[temp], array[i]\n",
        "\n",
        "print(\"Sorted Array:\", array)"
      ],
      "metadata": {
        "colab": {
          "base_uri": "https://localhost:8080/"
        },
        "id": "9sL7bl35GdHn",
        "outputId": "53682bfd-b0c7-469d-87b4-2ba5301b61bf"
      },
      "execution_count": null,
      "outputs": [
        {
          "output_type": "stream",
          "name": "stdout",
          "text": [
            "Enter the size of the array: 6\n",
            "Enter a number: 6\n",
            "Enter a number: 3\n",
            "Enter a number: 1\n",
            "Enter a number: 2\n",
            "Enter a number: 8\n",
            "Enter a number: 5\n",
            "Original Array: [6 3 1 2 8 5]\n",
            "Sorted Array: [1 2 3 5 6 8]\n"
          ]
        }
      ]
    },
    {
      "cell_type": "code",
      "source": [],
      "metadata": {
        "id": "V0Ro_yyfGnt7"
      },
      "execution_count": null,
      "outputs": []
    },
    {
      "cell_type": "code",
      "source": [
        "#Task 7\n",
        "def flatten(array):\n",
        "\n",
        "  row=array.shape[0]\n",
        "  col=array.shape[1]\n",
        "  new_array=np.zeros(array.size,dtype=int)\n",
        "\n",
        "\n",
        "  index=0\n",
        "  for i in range(row):\n",
        "    for j in range(col):\n",
        "      new_array[index]=array[i][j]\n",
        "      index=index+1\n",
        "  return new_array\n",
        "\n",
        "arr1=np.array([[1,2,3],[3,4,5]])\n",
        "arr2=flatten(arr1)\n",
        "print(arr2)"
      ],
      "metadata": {
        "colab": {
          "base_uri": "https://localhost:8080/"
        },
        "id": "yW8BkcIwD9Ck",
        "outputId": "365b28a9-3a62-43ba-8e0a-169fdc6d7f5f"
      },
      "execution_count": null,
      "outputs": [
        {
          "output_type": "stream",
          "name": "stdout",
          "text": [
            "[1 2 3 3 4 5]\n"
          ]
        }
      ]
    },
    {
      "cell_type": "code",
      "source": [
        "#Task 8\n",
        "import numpy as np\n",
        "A = np.array([  [1,  0,  0,  1],\n",
        "                [0,  1,  0,  0],\n",
        "                [1,  0,  1,  0],\n",
        "                [0,  1,  0,  1] ])\n",
        "\n",
        "n = A.shape[0]\n",
        "flag = True\n",
        "\n",
        "for i in range(n):\n",
        "    for j in range(n):\n",
        "        if (i == j) and (A[i][j] != 1):\n",
        "           flag = False\n",
        "        elif (i != j) and (A[i][j] != 0):\n",
        "           flag = False\n",
        "\n",
        "if flag==True :\n",
        "    print(\"Identity matrix\")\n",
        "else:\n",
        "    print(\"Not an Identiy matrix\")"
      ],
      "metadata": {
        "colab": {
          "base_uri": "https://localhost:8080/"
        },
        "id": "kC0_5h-7aUex",
        "outputId": "0081d8f9-1b6d-4f10-d1d6-56ed282cbd2f"
      },
      "execution_count": null,
      "outputs": [
        {
          "output_type": "stream",
          "name": "stdout",
          "text": [
            "Not an Identiy matrix\n"
          ]
        }
      ]
    },
    {
      "cell_type": "code",
      "source": [
        "#Task 9\n",
        "import numpy as np\n",
        "\n",
        "A = np.array([  [1,   5,  12,   1],\n",
        "                [2,  -4,  6,    7],\n",
        "                [3,   8,  5,    9],\n",
        "                [3,   5,  23,  -6] ])\n",
        "\n",
        "n = A.shape[0]\n",
        "\n",
        "temp1 = 0\n",
        "temp2 = 0\n",
        "\n",
        "for i in range(n):\n",
        "    for j in range(n):\n",
        "        if i == j:\n",
        "            temp1 += A[i][j]\n",
        "        if i + j == n - 1:\n",
        "            temp2 += A[i][j]\n",
        "print(abs(temp1 - temp2))"
      ],
      "metadata": {
        "colab": {
          "base_uri": "https://localhost:8080/"
        },
        "id": "1N-iZFq6cSNw",
        "outputId": "03acca81-c2e3-4cca-f061-359a1dca691b"
      },
      "execution_count": null,
      "outputs": [
        {
          "output_type": "stream",
          "name": "stdout",
          "text": [
            "22\n"
          ]
        }
      ]
    },
    {
      "cell_type": "code",
      "source": [
        "#Task 10.1\n",
        "A = np.array(  [[1,2,3,4],\n",
        "                [1,4,9,16]])\n",
        "\n",
        "row = A.shape[0]\n",
        "col = A.shape[1]\n",
        "array = np.zeros(shape=(col,row), dtype=int)\n",
        "\n",
        "for i in range(col):\n",
        "    for j in range(row):\n",
        "        array[i][j] = A[j][i]\n",
        "\n",
        "print(array)"
      ],
      "metadata": {
        "colab": {
          "base_uri": "https://localhost:8080/"
        },
        "id": "hy1MPT8zdjQU",
        "outputId": "9bac1ed9-341f-4728-ad79-a10aa24248b4"
      },
      "execution_count": null,
      "outputs": [
        {
          "output_type": "stream",
          "name": "stdout",
          "text": [
            "[[ 1  1]\n",
            " [ 2  4]\n",
            " [ 3  9]\n",
            " [ 4 16]]\n"
          ]
        }
      ]
    },
    {
      "cell_type": "code",
      "source": [
        "#Task 10.2\n",
        "import numpy as np\n",
        "A = np.array(  [[1, 2, 3, 4 ],\n",
        "                [1, 4, 9, 16]])\n",
        "\n",
        "row = A.shape[0]\n",
        "col = A.shape[1]\n",
        "\n",
        "array1 = np.zeros(shape=(col,row), dtype=int)\n",
        "\n",
        "for i in range(col):\n",
        "    for j in range(row):\n",
        "        array1[i][j] = A[j][i]\n",
        "\n",
        "array2 = np.zeros(shape=(col,col), dtype=int)\n",
        "\n",
        "for i in range(col):\n",
        "    for j in range(col):\n",
        "        trans= array1[i]\n",
        "        cis = A[:, j]\n",
        "        sum = 0\n",
        "        for k in range(len(trans)):\n",
        "            sum += trans[k] * cis[k]\n",
        "        array2[i][j] = sum\n",
        "print(array2)"
      ],
      "metadata": {
        "colab": {
          "base_uri": "https://localhost:8080/"
        },
        "id": "mRs95YaReiIB",
        "outputId": "5b181827-2165-4296-e7a4-151b13a43deb"
      },
      "execution_count": null,
      "outputs": [
        {
          "output_type": "stream",
          "name": "stdout",
          "text": [
            "[[  2   6  12  20]\n",
            " [  6  20  42  72]\n",
            " [ 12  42  90 156]\n",
            " [ 20  72 156 272]]\n"
          ]
        }
      ]
    },
    {
      "cell_type": "code",
      "source": [
        "#Task 11\n",
        "A = np.array([ [4,1,2],\n",
        "               [9,3,7]])\n",
        "array = np.zeros(shape=A.shape)\n",
        "row = A.shape[0]\n",
        "col = A.shape[1]\n",
        "absDiff = abs(row-col)\n",
        "rem = absDiff % row\n",
        "new_Row = A[rem]\n",
        "size = new_Row.size\n",
        "sum = 0\n",
        "\n",
        "for i in new_Row:\n",
        "    sum += i\n",
        "avg = round(sum/size, 2)\n",
        "\n",
        "\n",
        "for i in range(M):\n",
        "    for j in range(N):\n",
        "        array[i][j] = avg * A[i][j]\n",
        "print(array)"
      ],
      "metadata": {
        "colab": {
          "base_uri": "https://localhost:8080/"
        },
        "id": "aKVyg2j0fv_6",
        "outputId": "fccd4ce2-3e4a-4d3c-d32f-23cab4d26bd9"
      },
      "execution_count": null,
      "outputs": [
        {
          "output_type": "stream",
          "name": "stdout",
          "text": [
            "[[25.32  6.33 12.66]\n",
            " [56.97 18.99 44.31]]\n"
          ]
        }
      ]
    },
    {
      "cell_type": "code",
      "source": [
        "def one_call(n):\n",
        "    print(\"In One call\")\n",
        "    if n % 3 == 0:\n",
        "     return n + 7\n",
        "     print(\"one Call Done\")\n",
        "    return n - 9\n",
        "\n",
        "def two_call(a, b=20, c=\"sayounara\"):\n",
        "    a += b // 2 + 6\n",
        "    if type(c) == str:\n",
        "        b = c[b] + c[len(c) - b]\n",
        "    else:\n",
        "        b = (b + c) % 3\n",
        "    result = one_call(a)\n",
        "    print(result)\n",
        "    if type(b) == str:\n",
        "        return b, c\n",
        "\n",
        "\n",
        "x, y = two_call(11, 3)\n",
        "t = two_call(3, 8, 12)\n",
        "print(t)\n",
        "print(x, y)"
      ],
      "metadata": {
        "colab": {
          "base_uri": "https://localhost:8080/"
        },
        "id": "ikQLA_OPNRTa",
        "outputId": "f5392632-ee1c-4832-ad94-e6286d3ccd08"
      },
      "execution_count": null,
      "outputs": [
        {
          "output_type": "stream",
          "name": "stdout",
          "text": [
            "In One call\n",
            "25\n",
            "In One call\n",
            "4\n",
            "None\n",
            "oa sayounara\n"
          ]
        }
      ]
    }
  ]
}