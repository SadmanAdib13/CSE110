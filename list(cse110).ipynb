{
  "nbformat": 4,
  "nbformat_minor": 0,
  "metadata": {
    "colab": {
      "provenance": [],
      "include_colab_link": true
    },
    "kernelspec": {
      "name": "python3",
      "display_name": "Python 3"
    },
    "language_info": {
      "name": "python"
    }
  },
  "cells": [
    {
      "cell_type": "markdown",
      "metadata": {
        "id": "view-in-github",
        "colab_type": "text"
      },
      "source": [
        "<a href=\"https://colab.research.google.com/github/SadmanAdib13/First-Project/blob/main/list(cse110).ipynb\" target=\"_parent\"><img src=\"https://colab.research.google.com/assets/colab-badge.svg\" alt=\"Open In Colab\"/></a>"
      ]
    },
    {
      "cell_type": "code",
      "execution_count": null,
      "metadata": {
        "colab": {
          "base_uri": "https://localhost:8080/"
        },
        "id": "Yz0CVh9KDGly",
        "outputId": "5d7e7e82-c93c-4843-919a-7dec5338673c"
      },
      "outputs": [
        {
          "output_type": "stream",
          "name": "stdout",
          "text": [
            "5\n",
            "[5]\n",
            "30\n",
            "[5, 30]\n",
            "2\n",
            "[5, 30, 2]\n",
            "4\n",
            "[5, 30, 2, 4]\n",
            "-6\n",
            "[5, 30, 2, 4, -6]\n"
          ]
        }
      ],
      "source": [
        "#Task1\n",
        "#with apend\n",
        "list=[]\n",
        "for a in range(1,6):\n",
        "  m=int(input())\n",
        "  list.append(m)\n",
        "  print(list)"
      ]
    },
    {
      "cell_type": "code",
      "source": [
        "#without append\n",
        "list=[]\n",
        "for a in range(1,6):\n",
        "  m=int(input())\n",
        "  list=list+[m]\n",
        "  print(list)"
      ],
      "metadata": {
        "colab": {
          "base_uri": "https://localhost:8080/"
        },
        "id": "lEEL2EhMENN6",
        "outputId": "fd8b6ced-f350-4b9c-f6d6-6aec00726650"
      },
      "execution_count": null,
      "outputs": [
        {
          "output_type": "stream",
          "name": "stdout",
          "text": [
            "5\n",
            "[5]\n",
            "30\n",
            "[5, 30]\n",
            "2\n",
            "[5, 30, 2]\n",
            "4\n",
            "[5, 30, 2, 4]\n",
            "-6\n",
            "[5, 30, 2, 4, -6]\n"
          ]
        }
      ]
    },
    {
      "cell_type": "code",
      "source": [
        "#Task2\n",
        "list=input()\n",
        "main_list=[]\n",
        "list=list[1:len(list)-1]\n",
        "temp=\" \"\n",
        "for a in range(len(list)):\n",
        "  if list[a] != \",\":\n",
        "    temp+=list[a]\n",
        "  else:\n",
        "    main_list.append(int(temp))\n",
        "    temp=''\n",
        "main_list.append(int(temp))\n",
        "x=main_list\n",
        "reverse_list=[]\n",
        "for a in range((len(x)-1),-1,-1):\n",
        "  y=x[a]\n",
        "  reverse_list=reverse_list+[y]\n",
        "print(reverse_list)"
      ],
      "metadata": {
        "colab": {
          "base_uri": "https://localhost:8080/"
        },
        "id": "LVXLoDetFeCA",
        "outputId": "70117a29-84c2-482c-807d-9bab83eb7c7d"
      },
      "execution_count": null,
      "outputs": [
        {
          "output_type": "stream",
          "name": "stdout",
          "text": [
            "[5, -5, 100, 1, 0]\n",
            "[0, 1, 100, -5, 5]\n"
          ]
        }
      ]
    },
    {
      "cell_type": "code",
      "source": [
        "list=input()\n",
        "main_list=[]\n",
        "list = list[1:len(list)-1]\n",
        "\n",
        "temp=\" \"\n",
        "for a in range(len(list)):\n",
        "  if list[a] != \",\":\n",
        "    temp+=list[a]\n",
        "  else:\n",
        "    main_list.append(int(temp))\n",
        "    temp=''\n",
        "main_list.append(int(temp))\n",
        "x=main_list\n",
        "reverse_list=[]\n",
        "for a in range((len(x)-1),-1,-1):\n",
        "  y=x[a]\n",
        "  reverse_list.append(y)\n",
        "print(reverse_list)"
      ],
      "metadata": {
        "colab": {
          "base_uri": "https://localhost:8080/"
        },
        "id": "nBrwrBB688I4",
        "outputId": "029c752d-140a-47dd-db45-9fea598649da"
      },
      "execution_count": null,
      "outputs": [
        {
          "output_type": "stream",
          "name": "stdout",
          "text": [
            "[5, -5, 100, 1, 0]\n",
            "[0, 1, 100, -5, 5]\n"
          ]
        }
      ]
    },
    {
      "cell_type": "code",
      "source": [
        "input_str = input()\n",
        "main_list = []\n",
        "input_str = input_str[1:len(input_str)-1]  # Removes the brackets [] from the input string\n",
        "temp = \" \"\n",
        "\n",
        "for a in range(len(input_str)):\n",
        "    if input_str[a] != \",\":\n",
        "        temp += input_str[a]\n",
        "    else:\n",
        "        main_list.append(int(temp))\n",
        "        temp = ''\n",
        "\n",
        "main_list.append(int(temp))\n",
        "x = main_list\n",
        "reverse_list = []\n",
        "\n",
        "for a in range((len(x)-1), -1, -1):\n",
        "    y = x[a]\n",
        "    reverse_list.append(y)\n",
        "\n",
        "print(reverse_list)\n"
      ],
      "metadata": {
        "colab": {
          "base_uri": "https://localhost:8080/"
        },
        "id": "FejjmgWIIR-Y",
        "outputId": "00807e31-287e-4685-ce2c-4a7fcda3b345"
      },
      "execution_count": null,
      "outputs": [
        {
          "output_type": "stream",
          "name": "stdout",
          "text": [
            "[5, -5, 100, 1, 0]\n",
            "[0, 1, 100, -5, 5]\n"
          ]
        }
      ]
    },
    {
      "cell_type": "code",
      "source": [
        "#Task3\n",
        "m=input()\n",
        "main_list=[]\n",
        "temp=''\n",
        "for a in range(len(m)):\n",
        "  if m[a]!=',':\n",
        "    temp=temp+m[a]\n",
        "  else:\n",
        "    main_list.append(int(temp))\n",
        "    temp=''\n",
        "main_list.append(int(temp))\n",
        "x=main_list\n",
        "if len(x)>3:\n",
        "  print(x[2:len(x)-2])\n",
        "else:\n",
        "  print(\"Not possible\")"
      ],
      "metadata": {
        "colab": {
          "base_uri": "https://localhost:8080/"
        },
        "id": "AAdD8s8HMNEI",
        "outputId": "8847e2ec-4da5-430e-95e0-17f3485f385b"
      },
      "execution_count": null,
      "outputs": [
        {
          "output_type": "stream",
          "name": "stdout",
          "text": [
            "10, 20, 24, 25, 26, 35, 70\n",
            "[24, 25, 26]\n"
          ]
        }
      ]
    },
    {
      "cell_type": "code",
      "source": [
        "m=input()\n",
        "main_list=[]\n",
        "temp=''\n",
        "for a in range(len(m)):\n",
        "  if m[a]!=',':\n",
        "    temp=temp+m[a]\n",
        "print(temp)"
      ],
      "metadata": {
        "colab": {
          "base_uri": "https://localhost:8080/"
        },
        "id": "sAGz90uz3lwz",
        "outputId": "2ee20525-9154-4f6e-e214-48fb9e4c38ab"
      },
      "execution_count": null,
      "outputs": [
        {
          "output_type": "stream",
          "name": "stdout",
          "text": [
            "[5, -5, 100, 1, 0]\n",
            "[5 -5 100 1 0]\n"
          ]
        }
      ]
    },
    {
      "cell_type": "code",
      "source": [
        "#Task4\n"
      ],
      "metadata": {
        "id": "KP9xbpMaO0VF"
      },
      "execution_count": null,
      "outputs": []
    },
    {
      "cell_type": "code",
      "source": [
        "#Task5\n",
        "List_one=[1,3,5,7,9,10]\n",
        "List_two=[2,4,6,8]\n",
        "List_one=List_one[0:len(List_one)-1]\n",
        "for a in List_two:\n",
        "  List_one.append(a)\n",
        "print(List_one)"
      ],
      "metadata": {
        "colab": {
          "base_uri": "https://localhost:8080/"
        },
        "id": "trtmwjp5UAE2",
        "outputId": "86ec2825-acdf-49d9-cc55-505c52d8a952"
      },
      "execution_count": null,
      "outputs": [
        {
          "output_type": "stream",
          "name": "stdout",
          "text": [
            "[1, 3, 5, 7, 9, 2, 4, 6, 8]\n"
          ]
        }
      ]
    },
    {
      "cell_type": "code",
      "source": [
        "List_one=[1,3,5,7,9,10]\n",
        "List_two=[2,4,6,8]\n",
        "List_one=List_one[0:len(List_one)-1]\n",
        "print(List_one)"
      ],
      "metadata": {
        "colab": {
          "base_uri": "https://localhost:8080/"
        },
        "id": "GpVy7zmGDvWP",
        "outputId": "23078f91-9bdb-42b1-f74b-ee13416c2baf"
      },
      "execution_count": null,
      "outputs": [
        {
          "output_type": "stream",
          "name": "stdout",
          "text": [
            "[1, 3, 5, 7, 9]\n"
          ]
        }
      ]
    },
    {
      "cell_type": "code",
      "source": [
        "#Task6\n",
        "list1 = [1, 2, 3, 4, 5, 6, 7, 8, 9]\n",
        "list2 = [10, 11, 12, -13, -14, -15,-16]\n",
        "even_list=[]\n",
        "for a in list1:\n",
        "  if a%2==0:\n",
        "    even_list.append(a)\n",
        "  else:\n",
        "    pass\n",
        "for b in list2:\n",
        "  if b%2==0:\n",
        "    even_list.append(b)\n",
        "  else:\n",
        "    pass\n",
        "print(even_list)"
      ],
      "metadata": {
        "colab": {
          "base_uri": "https://localhost:8080/"
        },
        "id": "KGOrfpI-Vgb6",
        "outputId": "666f8060-e62a-407a-ae6d-b9fb8da5c654"
      },
      "execution_count": null,
      "outputs": [
        {
          "output_type": "stream",
          "name": "stdout",
          "text": [
            "[2, 4, 6, 8, 10, 12, -14, -16]\n"
          ]
        }
      ]
    },
    {
      "cell_type": "code",
      "source": [
        "#Task7\n",
        "def nested_to_linear(given_list):\n",
        "  new_list=[]\n",
        "  for a in given_list:\n",
        "    if type(a)==list:\n",
        "      new_list.extend(nested_to_linear(a))\n",
        "    else:\n",
        "      new_list.append(a)\n",
        "  return new_list\n",
        "x=nested_to_linear([\"start\", 10, [4, 2, [11, [9, \"mid\", 3, [1, 0], 6]], 8], \"Done\"])\n",
        "print(x)"
      ],
      "metadata": {
        "colab": {
          "base_uri": "https://localhost:8080/"
        },
        "id": "Oskhk52ZWJLH",
        "outputId": "765c0533-0965-4b52-eaf3-8dbf14902396"
      },
      "execution_count": null,
      "outputs": [
        {
          "output_type": "stream",
          "name": "stdout",
          "text": [
            "['start', 10, 4, 2, 11, 9, 'mid', 3, 1, 0, 6, 8, 'Done']\n"
          ]
        }
      ]
    },
    {
      "cell_type": "code",
      "source": [
        "#Task 8\n",
        "grade_list=[]\n",
        "for i in range(5):\n",
        "  n=str(input())\n",
        "  grade_list.append(n)\n",
        "  print(grade_list)"
      ],
      "metadata": {
        "colab": {
          "base_uri": "https://localhost:8080/",
          "height": 489
        },
        "id": "9-rCj2qNTG8B",
        "outputId": "d8e40349-ef74-4287-f689-7ce34f24fc64"
      },
      "execution_count": null,
      "outputs": [
        {
          "output_type": "stream",
          "name": "stdout",
          "text": [
            "[arif,3.7]\n",
            "['[arif,3.7]']\n",
            "[arif,3.7]\n",
            "['[arif,3.7]', '[arif,3.7]']\n"
          ]
        },
        {
          "output_type": "error",
          "ename": "KeyboardInterrupt",
          "evalue": "ignored",
          "traceback": [
            "\u001b[0;31m---------------------------------------------------------------------------\u001b[0m",
            "\u001b[0;31mKeyboardInterrupt\u001b[0m                         Traceback (most recent call last)",
            "\u001b[0;32m<ipython-input-2-bb636336b061>\u001b[0m in \u001b[0;36m<cell line: 3>\u001b[0;34m()\u001b[0m\n\u001b[1;32m      2\u001b[0m \u001b[0mgrade_list\u001b[0m\u001b[0;34m=\u001b[0m\u001b[0;34m[\u001b[0m\u001b[0;34m]\u001b[0m\u001b[0;34m\u001b[0m\u001b[0;34m\u001b[0m\u001b[0m\n\u001b[1;32m      3\u001b[0m \u001b[0;32mfor\u001b[0m \u001b[0mi\u001b[0m \u001b[0;32min\u001b[0m \u001b[0mrange\u001b[0m\u001b[0;34m(\u001b[0m\u001b[0;36m5\u001b[0m\u001b[0;34m)\u001b[0m\u001b[0;34m:\u001b[0m\u001b[0;34m\u001b[0m\u001b[0;34m\u001b[0m\u001b[0m\n\u001b[0;32m----> 4\u001b[0;31m   \u001b[0mn\u001b[0m\u001b[0;34m=\u001b[0m\u001b[0mstr\u001b[0m\u001b[0;34m(\u001b[0m\u001b[0minput\u001b[0m\u001b[0;34m(\u001b[0m\u001b[0;34m)\u001b[0m\u001b[0;34m)\u001b[0m\u001b[0;34m\u001b[0m\u001b[0;34m\u001b[0m\u001b[0m\n\u001b[0m\u001b[1;32m      5\u001b[0m   \u001b[0mgrade_list\u001b[0m\u001b[0;34m.\u001b[0m\u001b[0mappend\u001b[0m\u001b[0;34m(\u001b[0m\u001b[0mn\u001b[0m\u001b[0;34m)\u001b[0m\u001b[0;34m\u001b[0m\u001b[0;34m\u001b[0m\u001b[0m\n\u001b[1;32m      6\u001b[0m   \u001b[0mprint\u001b[0m\u001b[0;34m(\u001b[0m\u001b[0mgrade_list\u001b[0m\u001b[0;34m)\u001b[0m\u001b[0;34m\u001b[0m\u001b[0;34m\u001b[0m\u001b[0m\n",
            "\u001b[0;32m/usr/local/lib/python3.10/dist-packages/ipykernel/kernelbase.py\u001b[0m in \u001b[0;36mraw_input\u001b[0;34m(self, prompt)\u001b[0m\n\u001b[1;32m    849\u001b[0m                 \u001b[0;34m\"raw_input was called, but this frontend does not support input requests.\"\u001b[0m\u001b[0;34m\u001b[0m\u001b[0;34m\u001b[0m\u001b[0m\n\u001b[1;32m    850\u001b[0m             )\n\u001b[0;32m--> 851\u001b[0;31m         return self._input_request(str(prompt),\n\u001b[0m\u001b[1;32m    852\u001b[0m             \u001b[0mself\u001b[0m\u001b[0;34m.\u001b[0m\u001b[0m_parent_ident\u001b[0m\u001b[0;34m,\u001b[0m\u001b[0;34m\u001b[0m\u001b[0;34m\u001b[0m\u001b[0m\n\u001b[1;32m    853\u001b[0m             \u001b[0mself\u001b[0m\u001b[0;34m.\u001b[0m\u001b[0m_parent_header\u001b[0m\u001b[0;34m,\u001b[0m\u001b[0;34m\u001b[0m\u001b[0;34m\u001b[0m\u001b[0m\n",
            "\u001b[0;32m/usr/local/lib/python3.10/dist-packages/ipykernel/kernelbase.py\u001b[0m in \u001b[0;36m_input_request\u001b[0;34m(self, prompt, ident, parent, password)\u001b[0m\n\u001b[1;32m    893\u001b[0m             \u001b[0;32mexcept\u001b[0m \u001b[0mKeyboardInterrupt\u001b[0m\u001b[0;34m:\u001b[0m\u001b[0;34m\u001b[0m\u001b[0;34m\u001b[0m\u001b[0m\n\u001b[1;32m    894\u001b[0m                 \u001b[0;31m# re-raise KeyboardInterrupt, to truncate traceback\u001b[0m\u001b[0;34m\u001b[0m\u001b[0;34m\u001b[0m\u001b[0m\n\u001b[0;32m--> 895\u001b[0;31m                 \u001b[0;32mraise\u001b[0m \u001b[0mKeyboardInterrupt\u001b[0m\u001b[0;34m(\u001b[0m\u001b[0;34m\"Interrupted by user\"\u001b[0m\u001b[0;34m)\u001b[0m \u001b[0;32mfrom\u001b[0m \u001b[0;32mNone\u001b[0m\u001b[0;34m\u001b[0m\u001b[0;34m\u001b[0m\u001b[0m\n\u001b[0m\u001b[1;32m    896\u001b[0m             \u001b[0;32mexcept\u001b[0m \u001b[0mException\u001b[0m \u001b[0;32mas\u001b[0m \u001b[0me\u001b[0m\u001b[0;34m:\u001b[0m\u001b[0;34m\u001b[0m\u001b[0;34m\u001b[0m\u001b[0m\n\u001b[1;32m    897\u001b[0m                 \u001b[0mself\u001b[0m\u001b[0;34m.\u001b[0m\u001b[0mlog\u001b[0m\u001b[0;34m.\u001b[0m\u001b[0mwarning\u001b[0m\u001b[0;34m(\u001b[0m\u001b[0;34m\"Invalid Message:\"\u001b[0m\u001b[0;34m,\u001b[0m \u001b[0mexc_info\u001b[0m\u001b[0;34m=\u001b[0m\u001b[0;32mTrue\u001b[0m\u001b[0;34m)\u001b[0m\u001b[0;34m\u001b[0m\u001b[0;34m\u001b[0m\u001b[0m\n",
            "\u001b[0;31mKeyboardInterrupt\u001b[0m: Interrupted by user"
          ]
        }
      ]
    },
    {
      "cell_type": "code",
      "source": [
        "list=[3,4,5,6,7,7,8]\n",
        "print(len(list))"
      ],
      "metadata": {
        "colab": {
          "base_uri": "https://localhost:8080/"
        },
        "id": "KYnS2nDu2IWz",
        "outputId": "575d5856-45e2-48b9-8b70-06c896f849a3"
      },
      "execution_count": null,
      "outputs": [
        {
          "output_type": "stream",
          "name": "stdout",
          "text": [
            "7\n"
          ]
        }
      ]
    }
  ]
}